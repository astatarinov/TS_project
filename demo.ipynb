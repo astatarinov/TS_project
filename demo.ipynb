{
 "cells": [
  {
   "cell_type": "code",
   "execution_count": 1,
   "metadata": {},
   "outputs": [],
   "source": [
    "import numpy as np\n",
    "from numpy.random import randn\n",
    "from numpy.random import laplace\n",
    "import pandas as pd\n",
    "import matplotlib.pyplot as plt\n",
    "from datetime import datetime\n",
    "from pathlib import Path \n",
    "\n",
    "import sys\n",
    "import os\n",
    "\n",
    "from project.pipeline import run_full_pipeline, get_raw_data\n",
    "\n",
    "%matplotlib inline"
   ]
  },
  {
   "cell_type": "code",
   "execution_count": 2,
   "metadata": {},
   "outputs": [],
   "source": [
    "train_test_date = pd.Timestamp('2020-01-01')\n",
    "\n",
    "data = get_raw_data()"
   ]
  },
  {
   "cell_type": "code",
   "execution_count": 3,
   "metadata": {},
   "outputs": [
    {
     "name": "stdout",
     "output_type": "stream",
     "text": [
      "START date: 2020-01-01 00:00:00\n",
      "Starting changepoint detector\n",
      "Detected change point: 282\n",
      "Detected change point: 567\n",
      "Detected change point: 743\n",
      "Detected change point: 844\n",
      "income_changepoints:  [282, 567, 743, 844]\n",
      "Detected change point: 309\n",
      "Detected change point: 435\n",
      "Detected change point: 556\n",
      "Detected change point: 678\n",
      "Detected change point: 799\n",
      "Detected change point: 920\n",
      "Detected change point: 1042\n",
      "income_changepoints:  [309, 435, 556, 678, 799, 920, 1042]\n",
      "LAST_INCOME_CHENGEPOINT  2019-05-03\n",
      "LAST_OUTCOME_CHENGEPOINT  2019-11-17\n",
      "Starting model pipeline\n",
      "Loading raw data\n",
      "Raw data loaded. Shape: (46, 51)\n",
      "Building features from raw data\n",
      "Features dataset built. Shape: (46, 51)\n",
      "Selecting features for training\n",
      "Training features selected. Shape: (46, 51)\n",
      "Splitting dataset into train/val\n"
     ]
    },
    {
     "ename": "TypeError",
     "evalue": "cannot unpack non-iterable NoneType object",
     "output_type": "error",
     "traceback": [
      "\u001b[0;31m---------------------------------------------------------------------------\u001b[0m",
      "\u001b[0;31mTypeError\u001b[0m                                 Traceback (most recent call last)",
      "Cell \u001b[0;32mIn[3], line 4\u001b[0m\n\u001b[1;32m      2\u001b[0m \u001b[38;5;28;01mfor\u001b[39;00m cur_date \u001b[38;5;129;01min\u001b[39;00m test_dates:\n\u001b[1;32m      3\u001b[0m     \u001b[38;5;28mprint\u001b[39m(\u001b[38;5;124mf\u001b[39m\u001b[38;5;124m\"\u001b[39m\u001b[38;5;124mSTART date: \u001b[39m\u001b[38;5;132;01m{\u001b[39;00mcur_date\u001b[38;5;132;01m}\u001b[39;00m\u001b[38;5;124m\"\u001b[39m)\n\u001b[0;32m----> 4\u001b[0m     \u001b[43mrun_full_pipeline\u001b[49m\u001b[43m(\u001b[49m\u001b[43mcur_date\u001b[49m\u001b[43m)\u001b[49m\n\u001b[1;32m      5\u001b[0m     \u001b[38;5;28mprint\u001b[39m(\u001b[38;5;124m'\u001b[39m\u001b[38;5;124m=\u001b[39m\u001b[38;5;124m'\u001b[39m \u001b[38;5;241m*\u001b[39m \u001b[38;5;241m50\u001b[39m)\n",
      "File \u001b[0;32m~/university/timeseries/TS_project/project/pipeline.py:164\u001b[0m, in \u001b[0;36mrun_full_pipeline\u001b[0;34m(current_date)\u001b[0m\n\u001b[1;32m    153\u001b[0m \u001b[38;5;250m\u001b[39m\u001b[38;5;124;03m\"\"\"\u001b[39;00m\n\u001b[1;32m    154\u001b[0m \u001b[38;5;124;03mЭто основная функция, которую будем вызывать для каждой даты в тестовом промежутке.\u001b[39;00m\n\u001b[1;32m    155\u001b[0m \u001b[38;5;124;03m(При смене дня в предыдущий подкладывается реальный показатель, поскольку день закончен и баланс известен)\u001b[39;00m\n\u001b[0;32m   (...)\u001b[0m\n\u001b[1;32m    161\u001b[0m \u001b[38;5;124;03m5. отписывать логи, насколько мы ошиблись, сколько денег заработали / потеряли и тд.\u001b[39;00m\n\u001b[1;32m    162\u001b[0m \u001b[38;5;124;03m\"\"\"\u001b[39;00m\n\u001b[1;32m    163\u001b[0m last_changepoint \u001b[38;5;241m=\u001b[39m detect_anomalies(current_date)\n\u001b[0;32m--> 164\u001b[0m \u001b[43mrun_model_pipeline\u001b[49m\u001b[43m(\u001b[49m\u001b[43mstart_date\u001b[49m\u001b[38;5;241;43m=\u001b[39;49m\u001b[43mlast_changepoint\u001b[49m\u001b[43m,\u001b[49m\u001b[43m \u001b[49m\u001b[43mcurrent_date\u001b[49m\u001b[38;5;241;43m=\u001b[39;49m\u001b[43mcurrent_date\u001b[49m\u001b[43m)\u001b[49m\n\u001b[1;32m    165\u001b[0m prediction \u001b[38;5;241m=\u001b[39m run_model_validation(\n\u001b[1;32m    166\u001b[0m     current_date\n\u001b[1;32m    167\u001b[0m )  \u001b[38;5;66;03m# предсказываем сегодняшний день [!ЭТО НУЖНО ДОПИСАТЬ!]\u001b[39;00m\n\u001b[1;32m    168\u001b[0m today_data \u001b[38;5;241m=\u001b[39m get_today_data(current_date)\n",
      "File \u001b[0;32m~/university/timeseries/TS_project/project/pipeline.py:128\u001b[0m, in \u001b[0;36mrun_model_pipeline\u001b[0;34m(start_date, current_date)\u001b[0m\n\u001b[1;32m    125\u001b[0m \u001b[38;5;28mprint\u001b[39m(\u001b[38;5;124mf\u001b[39m\u001b[38;5;124m\"\u001b[39m\u001b[38;5;124mTraining features selected. Shape: \u001b[39m\u001b[38;5;132;01m{\u001b[39;00mdataset\u001b[38;5;241m.\u001b[39mshape\u001b[38;5;132;01m}\u001b[39;00m\u001b[38;5;124m\"\u001b[39m)\n\u001b[1;32m    127\u001b[0m \u001b[38;5;28mprint\u001b[39m(\u001b[38;5;124m\"\u001b[39m\u001b[38;5;124mSplitting dataset into train/val\u001b[39m\u001b[38;5;124m\"\u001b[39m)\n\u001b[0;32m--> 128\u001b[0m X_train, X_test, y_train, y_test \u001b[38;5;241m=\u001b[39m split_data(dataset)\n\u001b[1;32m    129\u001b[0m \u001b[38;5;28mprint\u001b[39m(\u001b[38;5;124m\"\u001b[39m\u001b[38;5;124mDataset split\u001b[39m\u001b[38;5;124m\"\u001b[39m)\n\u001b[1;32m    131\u001b[0m \u001b[38;5;28mprint\u001b[39m(\u001b[38;5;124m\"\u001b[39m\u001b[38;5;124mRun model training\u001b[39m\u001b[38;5;124m\"\u001b[39m)\n",
      "\u001b[0;31mTypeError\u001b[0m: cannot unpack non-iterable NoneType object"
     ]
    }
   ],
   "source": [
    "test_dates = list(data.loc[train_test_date:].index)\n",
    "for cur_date in test_dates:\n",
    "    print(f\"START date: {cur_date}\")\n",
    "    run_full_pipeline(cur_date)\n",
    "    print('=' * 50)"
   ]
  },
  {
   "cell_type": "code",
   "execution_count": null,
   "metadata": {},
   "outputs": [],
   "source": []
  },
  {
   "cell_type": "code",
   "execution_count": null,
   "metadata": {},
   "outputs": [],
   "source": []
  },
  {
   "cell_type": "code",
   "execution_count": null,
   "metadata": {},
   "outputs": [],
   "source": []
  }
 ],
 "metadata": {
  "kernelspec": {
   "display_name": "ts_venv",
   "language": "python",
   "name": "ts_venv"
  },
  "language_info": {
   "codemirror_mode": {
    "name": "ipython",
    "version": 3
   },
   "file_extension": ".py",
   "mimetype": "text/x-python",
   "name": "python",
   "nbconvert_exporter": "python",
   "pygments_lexer": "ipython3",
   "version": "3.10.13"
  }
 },
 "nbformat": 4,
 "nbformat_minor": 2
}
