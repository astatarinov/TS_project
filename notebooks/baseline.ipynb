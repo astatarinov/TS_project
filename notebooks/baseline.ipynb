{
 "cells": [
  {
   "cell_type": "code",
   "execution_count": 1,
   "id": "45ebfb7d-83f3-4791-89f1-c583fe100093",
   "metadata": {},
   "outputs": [],
   "source": [
    "%load_ext autoreload\n",
    "%autoreload 1\n",
    "import sys\n",
    "import os\n",
    "from pathlib import Path\n",
    "sys.path.insert(1, str(Path(os.getcwd()).resolve().parent))\n",
    "\n",
    "import pandas as pd \n",
    "pd.set_option('display.max_columns', 150)\n",
    "\n",
    "from project.utils.data import *\n",
    "%aimport project.utils.data"
   ]
  },
  {
   "cell_type": "code",
   "execution_count": 2,
   "id": "f4af5e94-5927-4e58-b8fe-fedec7f2df5b",
   "metadata": {},
   "outputs": [],
   "source": [
    "df = load_extended_data()"
   ]
  },
  {
   "cell_type": "code",
   "execution_count": 3,
   "id": "78d533b3-b3a2-414f-a969-503a01025650",
   "metadata": {},
   "outputs": [],
   "source": [
    "### to do\n",
    "\n",
    "# choose df columns s. t. feature selection results "
   ]
  },
  {
   "cell_type": "code",
   "execution_count": 4,
   "id": "a3356980-71d7-44c3-965c-b10e77694fa2",
   "metadata": {},
   "outputs": [],
   "source": [
    "df = df.drop(columns=['January', 'February', 'March',\n",
    "       'April', 'May', 'June', 'July', 'August', 'September', 'October',\n",
    "       'November', 'December',])"
   ]
  },
  {
   "cell_type": "code",
   "execution_count": 5,
   "id": "77fa9c73-f92f-4f2d-9fa8-d4fe188daa0c",
   "metadata": {},
   "outputs": [],
   "source": [
    "# creating lag features\n",
    "X = (\n",
    "    project.utils.data.create_lag_features(df, 'balance', [1, 7, 14])\n",
    "    .drop(columns=['balance', 'income', 'outcome'])\n",
    ")\n",
    "\n",
    "# cutting nulls after creating lags \n",
    "start = X[X.isnull().sum(axis=1) == 0].index.min()\n",
    "\n",
    "y, X = df['balance'][start:], X[start:]\n",
    "\n",
    "assert y.shape[0] == X.shape[0], 'alarm (shape)'\n",
    "assert y.index.min() == X.index.min(), 'alarm (dates)'"
   ]
  },
  {
   "cell_type": "code",
   "execution_count": 29,
   "id": "c014b520-bc22-42be-9abf-3352bbcaea1a",
   "metadata": {},
   "outputs": [],
   "source": [
    "import numpy as np\n",
    "import pandas as pd\n",
    "from sklearn.model_selection import TimeSeriesSplit, GridSearchCV\n",
    "from sklearn.metrics import mean_absolute_error\n",
    "\n",
    "def time_series_model_fit(target,\n",
    "                          features,\n",
    "                          params_grid,\n",
    "                          model_class,\n",
    "                          cv_window='expanding',\n",
    "                          n_splits=5,\n",
    "                          additional_metric=None,\n",
    "                          test_size=0.2\n",
    "                         ):\n",
    "    # Step 1: Split time series data into train and test\n",
    "    split_index = int(len(target) * (1 - test_size))\n",
    "    target_train, target_test = target[:split_index], target[split_index:]\n",
    "    features_train, features_test = features[:split_index], features[split_index:]\n",
    "\n",
    "    # Step 2: Define Time Series Cross-Validation\n",
    "    if cv_window == 'expanding':\n",
    "        cv = TimeSeriesSplit(n_splits=n_splits if n_splits else len(target_train))\n",
    "    elif cv_window == 'rolling':\n",
    "        cv = TimeSeriesSplit(n_splits=n_splits)\n",
    "\n",
    "    # Step 3: Run Grid Search CV on the train data\n",
    "    grid_search = GridSearchCV(model_class, params_grid, cv=cv, scoring='neg_mean_absolute_error')\n",
    "    grid_search.fit(features_train, target_train)\n",
    "\n",
    "    best_model = grid_search.best_estimator_\n",
    "\n",
    "    # Step 4: Evaluate the model on the test data\n",
    "    predictions_test = best_model.predict(features_test)\n",
    "    mae_test = mean_absolute_error(target_test, predictions_test)\n",
    "\n",
    "    # Step 5: Fit the best model on all data\n",
    "    best_model.fit(features, target)\n",
    "\n",
    "    additional_metric_result = None\n",
    "    if additional_metric:\n",
    "        additional_metric_result = additional_metric(target_test, predictions_test)\n",
    "\n",
    "    return best_model, mae_test, additional_metric_result, grid_search.best_params_\n",
    "\n"
   ]
  },
  {
   "cell_type": "code",
   "execution_count": 30,
   "id": "e57247cf-450a-4aa5-ba1a-5a581bf24ef3",
   "metadata": {},
   "outputs": [],
   "source": [
    "from catboost import  CatBoostRegressor"
   ]
  },
  {
   "cell_type": "code",
   "execution_count": 35,
   "id": "a4cb4199-bc29-4abe-8624-7c29343f583f",
   "metadata": {},
   "outputs": [],
   "source": [
    "param_grid = {  \n",
    "    'iterations': [100, 200, 300],  \n",
    "    'learning_rate': [0.1, 1],  \n",
    "    'depth': [5, 7, 8],  \n",
    "    # 'l2_leaf_reg': [1, 5, 10],  \n",
    "    # 'random_strength': [1, 5, 10],  \n",
    "    # 'bagging_temperature': [0.5, 1, 2],  \n",
    "    # 'random_seed': [0, 42, 123]  \n",
    "}  \n",
    "  \n",
    "model = CatBoostRegressor(verbose=0) "
   ]
  },
  {
   "cell_type": "code",
   "execution_count": 14,
   "id": "f4c27c77-cbf6-4030-bd40-c302f0839583",
   "metadata": {},
   "outputs": [],
   "source": [
    "# y.to_numpy()"
   ]
  },
  {
   "cell_type": "code",
   "execution_count": 36,
   "id": "ab00640d-ce04-4959-858f-1f30cbecc027",
   "metadata": {
    "scrolled": true
   },
   "outputs": [],
   "source": [
    "result = time_series_model_fit(\n",
    "    target=y,\n",
    "    features=X, params_grid=param_grid, model_class=model, cv_window='rolling'\n",
    ")"
   ]
  },
  {
   "cell_type": "code",
   "execution_count": 37,
   "id": "c0922082-18e4-4ab8-b1cd-cc4b94465a62",
   "metadata": {},
   "outputs": [
    {
     "data": {
      "text/plain": [
       "(<catboost.core.CatBoostRegressor at 0x2b4707e80>,\n",
       " 0.01528840902027627,\n",
       " None,\n",
       " {'depth': 5, 'iterations': 300, 'learning_rate': 0.1})"
      ]
     },
     "execution_count": 37,
     "metadata": {},
     "output_type": "execute_result"
    }
   ],
   "source": [
    "result"
   ]
  }
 ],
 "metadata": {
  "kernelspec": {
   "display_name": "Python 3 (ipykernel)",
   "language": "python",
   "name": "python3"
  },
  "language_info": {
   "codemirror_mode": {
    "name": "ipython",
    "version": 3
   },
   "file_extension": ".py",
   "mimetype": "text/x-python",
   "name": "python",
   "nbconvert_exporter": "python",
   "pygments_lexer": "ipython3",
   "version": "3.10.11"
  }
 },
 "nbformat": 4,
 "nbformat_minor": 5
}
