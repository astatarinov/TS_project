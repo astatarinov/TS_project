{
 "cells": [
  {
   "cell_type": "code",
   "execution_count": 2,
   "id": "45ebfb7d-83f3-4791-89f1-c583fe100093",
   "metadata": {},
   "outputs": [],
   "source": [
    "%load_ext autoreload\n",
    "%autoreload 1\n",
    "import sys\n",
    "import os\n",
    "from pathlib import Path\n",
    "sys.path.insert(1, str(Path(os.getcwd()).resolve().parent))\n",
    "\n",
    "import pandas as pd \n",
    "pd.set_option('display.max_columns', 150)\n",
    "\n",
    "from project.utils.data import *\n",
    "%aimport project.utils.data\n",
    "\n",
    "from sktime.forecasting.all import temporal_train_test_split"
   ]
  },
  {
   "cell_type": "code",
   "execution_count": 2,
   "id": "f4af5e94-5927-4e58-b8fe-fedec7f2df5b",
   "metadata": {},
   "outputs": [],
   "source": [
    "df = load_extended_data()"
   ]
  },
  {
   "cell_type": "code",
   "execution_count": 3,
   "id": "78d533b3-b3a2-414f-a969-503a01025650",
   "metadata": {},
   "outputs": [],
   "source": [
    "### to do\n",
    "\n",
    "# choose df columns s. t. feature selection results "
   ]
  },
  {
   "cell_type": "code",
   "execution_count": 4,
   "id": "a3356980-71d7-44c3-965c-b10e77694fa2",
   "metadata": {},
   "outputs": [],
   "source": [
    "df = df.drop(columns=['January', 'February', 'March',\n",
    "       'April', 'May', 'June', 'July', 'August', 'September', 'October',\n",
    "       'November', 'December',])"
   ]
  },
  {
   "cell_type": "code",
   "execution_count": 5,
   "id": "77fa9c73-f92f-4f2d-9fa8-d4fe188daa0c",
   "metadata": {},
   "outputs": [],
   "source": [
    "# creating lag features\n",
    "X = (\n",
    "    project.utils.data.create_lag_features(df, 'balance', [1, 7, 14])\n",
    "    .drop(columns=['balance', 'income', 'outcome'])\n",
    ")\n",
    "\n",
    "# cutting nulls after creating lags \n",
    "start = X[X.isnull().sum(axis=1) == 0].index.min()\n",
    "\n",
    "y, X = df['balance'][start:], X[start:]\n",
    "\n",
    "assert y.shape[0] == X.shape[0], 'alarm (shape)'\n",
    "assert y.index.min() == X.index.min(), 'alarm (dates)'"
   ]
  },
  {
   "cell_type": "code",
   "execution_count": 29,
   "id": "c014b520-bc22-42be-9abf-3352bbcaea1a",
   "metadata": {},
   "outputs": [],
   "source": [
    "import numpy as np\n",
    "import pandas as pd\n",
    "from sklearn.model_selection import TimeSeriesSplit, GridSearchCV\n",
    "from sklearn.metrics import mean_absolute_error\n",
    "\n",
    "def time_series_model_fit(target,\n",
    "                          features,\n",
    "                          params_grid,\n",
    "                          model_class,\n",
    "                          cv_window='expanding',\n",
    "                          n_splits=5,\n",
    "                          additional_metric=None,\n",
    "                          test_size=0.2\n",
    "                         ):\n",
    "    # Step 1: Split time series data into train and test\n",
    "    split_index = int(len(target) * (1 - test_size))\n",
    "    target_train, target_test = target[:split_index], target[split_index:]\n",
    "    features_train, features_test = features[:split_index], features[split_index:]\n",
    "\n",
    "    # Step 2: Define Time Series Cross-Validation\n",
    "    if cv_window == 'expanding':\n",
    "        cv = TimeSeriesSplit(n_splits=n_splits if n_splits else len(target_train))\n",
    "    elif cv_window == 'rolling':\n",
    "        cv = TimeSeriesSplit(n_splits=n_splits)\n",
    "\n",
    "    # Step 3: Run Grid Search CV on the train data\n",
    "    grid_search = GridSearchCV(model_class, params_grid, cv=cv, scoring='neg_mean_absolute_error')\n",
    "    grid_search.fit(features_train, target_train)\n",
    "\n",
    "    best_model = grid_search.best_estimator_\n",
    "\n",
    "    # Step 4: Evaluate the model on the test data\n",
    "    predictions_test = best_model.predict(features_test)\n",
    "    mae_test = mean_absolute_error(target_test, predictions_test)\n",
    "\n",
    "    # Step 5: Fit the best model on all data\n",
    "    best_model.fit(features, target)\n",
    "\n",
    "    additional_metric_result = None\n",
    "    if additional_metric:\n",
    "        additional_metric_result = additional_metric(target_test, predictions_test)\n",
    "\n",
    "    return best_model, mae_test, additional_metric_result, grid_search.best_params_\n",
    "\n"
   ]
  },
  {
   "cell_type": "code",
   "execution_count": 30,
   "id": "e57247cf-450a-4aa5-ba1a-5a581bf24ef3",
   "metadata": {},
   "outputs": [],
   "source": [
    "from catboost import  CatBoostRegressor"
   ]
  },
  {
   "cell_type": "code",
   "execution_count": 35,
   "id": "a4cb4199-bc29-4abe-8624-7c29343f583f",
   "metadata": {},
   "outputs": [],
   "source": [
    "param_grid = {  \n",
    "    'iterations': [100, 200, 300],  \n",
    "    'learning_rate': [0.1, 1],  \n",
    "    'depth': [5, 7, 8],  \n",
    "    # 'l2_leaf_reg': [1, 5, 10],  \n",
    "    # 'random_strength': [1, 5, 10],  \n",
    "    # 'bagging_temperature': [0.5, 1, 2],  \n",
    "    # 'random_seed': [0, 42, 123]  \n",
    "}  \n",
    "  \n",
    "model = CatBoostRegressor(verbose=0) "
   ]
  },
  {
   "cell_type": "code",
   "execution_count": 14,
   "id": "f4c27c77-cbf6-4030-bd40-c302f0839583",
   "metadata": {},
   "outputs": [],
   "source": [
    "# y.to_numpy()"
   ]
  },
  {
   "cell_type": "code",
   "execution_count": 36,
   "id": "ab00640d-ce04-4959-858f-1f30cbecc027",
   "metadata": {
    "scrolled": true
   },
   "outputs": [],
   "source": [
    "result = time_series_model_fit(\n",
    "    target=y,\n",
    "    features=X, params_grid=param_grid, model_class=model, cv_window='rolling'\n",
    ")"
   ]
  },
  {
   "cell_type": "code",
   "execution_count": 52,
   "id": "3ebf4321-1587-483a-a520-a3e0286615ae",
   "metadata": {},
   "outputs": [],
   "source": [
    "y_pred = result[0].predict(X_test)"
   ]
  },
  {
   "cell_type": "code",
   "execution_count": 51,
   "id": "01e31667-7909-4b88-b49e-d1db866c72e9",
   "metadata": {},
   "outputs": [],
   "source": [
    "from sktime.forecasting.all import temporal_train_test_split\n",
    "\n",
    "y_train, y_test, X_train, X_test = temporal_train_test_split(y, X, test_size=0.1)\n",
    "cbr_rate_train, cbr_rate_test = df.key_rate[y_train.index], df.key_rate[y_test.index]"
   ]
  },
  {
   "cell_type": "code",
   "execution_count": 55,
   "id": "4a8d44ec-f3c4-4e73-bad0-16825d25bf38",
   "metadata": {},
   "outputs": [],
   "source": [
    "# cbr_rate_test"
   ]
  },
  {
   "cell_type": "code",
   "execution_count": 57,
   "id": "aa658240-4418-43a4-bf50-3e05ff453864",
   "metadata": {},
   "outputs": [
    {
     "name": "stderr",
     "output_type": "stream",
     "text": [
      "/var/folders/yh/4jky_nln065c8nrzc6phgjjdt0k6bs/T/ipykernel_13695/17752452.py:3: FutureWarning: Series.__getitem__ treating keys as positions is deprecated. In a future version, integer keys will always be treated as labels (consistent with DataFrame behavior). To access a value by position, use `ser.iloc[pos]`\n",
      "  prediction=y_pred[i],target=y_test[i],cbr_key_rate=cbr_rate_test[i],\n"
     ]
    },
    {
     "data": {
      "text/plain": [
       "-0.012365690653529906"
      ]
     },
     "execution_count": 57,
     "metadata": {},
     "output_type": "execute_result"
    }
   ],
   "source": [
    "i = 0\n",
    "project.utils.metrics.calculate_daily_profit(\n",
    "    prediction=y_pred[i],target=y_test[i],cbr_key_rate=cbr_rate_test[i],\n",
    ")"
   ]
  },
  {
   "cell_type": "code",
   "execution_count": 1,
   "id": "8f6bb518-6490-42e4-91d2-a2fcd372c69d",
   "metadata": {},
   "outputs": [
    {
     "ename": "NameError",
     "evalue": "name 'project' is not defined",
     "output_type": "error",
     "traceback": [
      "\u001b[0;31m---------------------------------------------------------------------------\u001b[0m",
      "\u001b[0;31mNameError\u001b[0m                                 Traceback (most recent call last)",
      "Cell \u001b[0;32mIn[1], line 2\u001b[0m\n\u001b[1;32m      1\u001b[0m i \u001b[38;5;241m=\u001b[39m \u001b[38;5;241m0\u001b[39m\n\u001b[0;32m----> 2\u001b[0m \u001b[43mproject\u001b[49m\u001b[38;5;241m.\u001b[39mutils\u001b[38;5;241m.\u001b[39mmetrics\u001b[38;5;241m.\u001b[39mcalculate_add_margin(\n\u001b[1;32m      3\u001b[0m     prediction\u001b[38;5;241m=\u001b[39my_pred[i],target\u001b[38;5;241m=\u001b[39my_test[i],cbr_key_rate\u001b[38;5;241m=\u001b[39mcbr_rate_test[i],\n\u001b[1;32m      4\u001b[0m )\n",
      "\u001b[0;31mNameError\u001b[0m: name 'project' is not defined"
     ]
    }
   ],
   "source": [
    "i = 0\n",
    "project.utils.metrics.calculate_add_margin(\n",
    "    prediction=y_pred[i],target=y_test[i],cbr_key_rate=cbr_rate_test[i],\n",
    ")"
   ]
  },
  {
   "cell_type": "code",
   "execution_count": 58,
   "id": "c0922082-18e4-4ab8-b1cd-cc4b94465a62",
   "metadata": {},
   "outputs": [
    {
     "name": "stderr",
     "output_type": "stream",
     "text": [
      "/Users/ruattar/TS_project/project/utils/metrics.py:40: RuntimeWarning: divide by zero encountered in scalar divide\n",
      "  profit = (earnings - target) / target\n",
      "/Users/ruattar/TS_project/project/utils/metrics.py:56: RuntimeWarning: invalid value encountered in scalar multiply\n",
      "  target * calculate_daily_profit(\n"
     ]
    },
    {
     "data": {
      "text/plain": [
       "nan"
      ]
     },
     "execution_count": 58,
     "metadata": {},
     "output_type": "execute_result"
    }
   ],
   "source": [
    "project.utils.metrics.calculate_total_earnings(y_pred, y_test, cbr_rate_test)"
   ]
  },
  {
   "cell_type": "code",
   "execution_count": null,
   "id": "26c5116a-f50a-4a3c-906d-09c7dc66d114",
   "metadata": {},
   "outputs": [],
   "source": [
    "class TS_Model:\n",
    "    def __init__(self, y, X, test_size=0.1, cv_window, model_class=CatBoostRegressor):\n",
    "        self.y = y\n",
    "        self.X = X\n",
    "        self.test_size=0.1\n",
    "        self.cv_window = cv_window\n",
    "        self."
   ]
  },
  {
   "cell_type": "code",
   "execution_count": 39,
   "id": "fd96050b-737c-4cdd-b113-ce1209d229d7",
   "metadata": {},
   "outputs": [],
   "source": [
    "%aimport project.utils.metrics"
   ]
  },
  {
   "cell_type": "code",
   "execution_count": 40,
   "id": "09e1e5e2-a558-43aa-bcef-1f2299c7c8c7",
   "metadata": {},
   "outputs": [
    {
     "data": {
      "text/plain": [
       "<function project.utils.metrics.check_business_requirements(predictions: pandas.core.series.Series | numpy.ndarray, targets: pandas.core.series.Series | numpy.ndarray, max_deviation: float = 0.42) -> bool>"
      ]
     },
     "execution_count": 40,
     "metadata": {},
     "output_type": "execute_result"
    }
   ],
   "source": [
    "project.utils.metrics.check_business_requirements"
   ]
  },
  {
   "cell_type": "code",
   "execution_count": 38,
   "id": "e2392e54-3229-451c-8f97-fefd1de259f4",
   "metadata": {},
   "outputs": [],
   "source": [
    "# class DoubleModel:\n",
    "#     def __init__(self, income: dict, outcome: dict,  base_model_class,\n",
    "#                  best_income_model=None, best_outome_model=None,\n",
    "#                  test_size=0.1\n",
    "#                 ):\n",
    "#         self.income = income \n",
    "#         self.outcome = outcome\n",
    "#         self.X = X\n",
    "#         self.base_model_class = base_model_class\n",
    "        \n",
    "#         self.best_income_model = best_income_model\n",
    "#         self.best_outome_model = best_outome_model\n",
    "\n",
    "        \n",
    "\n",
    "#     def fit_series(self, y, X):\n",
    "\n",
    "        \n",
    "        "
   ]
  },
  {
   "cell_type": "code",
   "execution_count": null,
   "id": "88477bd1-a999-4b06-8e73-3751200d7705",
   "metadata": {},
   "outputs": [],
   "source": []
  },
  {
   "cell_type": "code",
   "execution_count": null,
   "id": "9b6b9a3f-2759-49db-84a2-94d6e19c9b6a",
   "metadata": {},
   "outputs": [],
   "source": []
  }
 ],
 "metadata": {
  "kernelspec": {
   "display_name": "Python 3 (ipykernel)",
   "language": "python",
   "name": "python3"
  },
  "language_info": {
   "codemirror_mode": {
    "name": "ipython",
    "version": 3
   },
   "file_extension": ".py",
   "mimetype": "text/x-python",
   "name": "python",
   "nbconvert_exporter": "python",
   "pygments_lexer": "ipython3",
   "version": "3.10.11"
  }
 },
 "nbformat": 4,
 "nbformat_minor": 5
}
