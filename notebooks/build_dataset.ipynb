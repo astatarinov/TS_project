{
 "cells": [
  {
   "cell_type": "markdown",
   "id": "ebc53580-d602-45c2-be5a-7bc1401f0e41",
   "metadata": {},
   "source": [
    "# Build ultimate dataset"
   ]
  },
  {
   "cell_type": "code",
   "execution_count": 1,
   "id": "e6e3ef37-d02e-497b-a6b8-2cf0779aa4cd",
   "metadata": {
    "ExecuteTime": {
     "end_time": "2024-04-10T22:21:04.754274Z",
     "start_time": "2024-04-10T22:21:04.295679Z"
    }
   },
   "outputs": [],
   "source": [
    "from project.utils.data import load_balances_data"
   ]
  },
  {
   "cell_type": "code",
   "outputs": [],
   "source": [
    "balances = load_balances_data()"
   ],
   "metadata": {
    "collapsed": false,
    "ExecuteTime": {
     "end_time": "2024-04-10T22:21:06.046922Z",
     "start_time": "2024-04-10T22:21:06.032414Z"
    }
   },
   "id": "4e7a02a23f2faca6",
   "execution_count": 2
  },
  {
   "cell_type": "code",
   "execution_count": 3,
   "id": "1650f8ed-54ab-478a-8023-1f6057f16044",
   "metadata": {
    "ExecuteTime": {
     "end_time": "2024-04-10T22:21:06.846986Z",
     "start_time": "2024-04-10T22:21:06.841486Z"
    }
   },
   "outputs": [],
   "source": [
    "balances['income - outcome'] = balances['income'] - balances['outcome']"
   ]
  },
  {
   "cell_type": "code",
   "outputs": [
    {
     "data": {
      "text/plain": "              income   outcome   balance  income - outcome\ndate                                                      \n2017-01-09  1.343028  1.487865 -0.155904         -0.144836\n2017-01-10  1.068610  1.194182 -0.125572         -0.125572\n2017-01-11  0.944429  0.936663  0.007767          0.007767\n2017-01-12  1.672202  0.875379  0.800391          0.796823\n2017-01-13  0.955924  0.975645 -0.019721         -0.019721\n...              ...       ...       ...               ...\n2021-03-27  0.000000  0.000000  0.000000          0.000000\n2021-03-28  0.000000  0.000000  0.000000          0.000000\n2021-03-29  2.356883  3.370738 -1.017679         -1.013855\n2021-03-30  2.317382  2.567554 -0.259687         -0.250172\n2021-03-31  2.528054  2.528054 -0.004878          0.000000\n\n[1543 rows x 4 columns]",
      "text/html": "<div>\n<style scoped>\n    .dataframe tbody tr th:only-of-type {\n        vertical-align: middle;\n    }\n\n    .dataframe tbody tr th {\n        vertical-align: top;\n    }\n\n    .dataframe thead th {\n        text-align: right;\n    }\n</style>\n<table border=\"1\" class=\"dataframe\">\n  <thead>\n    <tr style=\"text-align: right;\">\n      <th></th>\n      <th>income</th>\n      <th>outcome</th>\n      <th>balance</th>\n      <th>income - outcome</th>\n    </tr>\n    <tr>\n      <th>date</th>\n      <th></th>\n      <th></th>\n      <th></th>\n      <th></th>\n    </tr>\n  </thead>\n  <tbody>\n    <tr>\n      <th>2017-01-09</th>\n      <td>1.343028</td>\n      <td>1.487865</td>\n      <td>-0.155904</td>\n      <td>-0.144836</td>\n    </tr>\n    <tr>\n      <th>2017-01-10</th>\n      <td>1.068610</td>\n      <td>1.194182</td>\n      <td>-0.125572</td>\n      <td>-0.125572</td>\n    </tr>\n    <tr>\n      <th>2017-01-11</th>\n      <td>0.944429</td>\n      <td>0.936663</td>\n      <td>0.007767</td>\n      <td>0.007767</td>\n    </tr>\n    <tr>\n      <th>2017-01-12</th>\n      <td>1.672202</td>\n      <td>0.875379</td>\n      <td>0.800391</td>\n      <td>0.796823</td>\n    </tr>\n    <tr>\n      <th>2017-01-13</th>\n      <td>0.955924</td>\n      <td>0.975645</td>\n      <td>-0.019721</td>\n      <td>-0.019721</td>\n    </tr>\n    <tr>\n      <th>...</th>\n      <td>...</td>\n      <td>...</td>\n      <td>...</td>\n      <td>...</td>\n    </tr>\n    <tr>\n      <th>2021-03-27</th>\n      <td>0.000000</td>\n      <td>0.000000</td>\n      <td>0.000000</td>\n      <td>0.000000</td>\n    </tr>\n    <tr>\n      <th>2021-03-28</th>\n      <td>0.000000</td>\n      <td>0.000000</td>\n      <td>0.000000</td>\n      <td>0.000000</td>\n    </tr>\n    <tr>\n      <th>2021-03-29</th>\n      <td>2.356883</td>\n      <td>3.370738</td>\n      <td>-1.017679</td>\n      <td>-1.013855</td>\n    </tr>\n    <tr>\n      <th>2021-03-30</th>\n      <td>2.317382</td>\n      <td>2.567554</td>\n      <td>-0.259687</td>\n      <td>-0.250172</td>\n    </tr>\n    <tr>\n      <th>2021-03-31</th>\n      <td>2.528054</td>\n      <td>2.528054</td>\n      <td>-0.004878</td>\n      <td>0.000000</td>\n    </tr>\n  </tbody>\n</table>\n<p>1543 rows × 4 columns</p>\n</div>"
     },
     "execution_count": 4,
     "metadata": {},
     "output_type": "execute_result"
    }
   ],
   "source": [
    "balances"
   ],
   "metadata": {
    "collapsed": false,
    "ExecuteTime": {
     "end_time": "2024-04-10T22:21:07.372553Z",
     "start_time": "2024-04-10T22:21:07.356802Z"
    }
   },
   "id": "226c4445b47ace0a",
   "execution_count": 4
  },
  {
   "cell_type": "code",
   "outputs": [],
   "source": [],
   "metadata": {
    "collapsed": false
   },
   "id": "ef83922cdada9e60"
  }
 ],
 "metadata": {
  "kernelspec": {
   "display_name": "Python 3 (ipykernel)",
   "language": "python",
   "name": "python3"
  },
  "language_info": {
   "codemirror_mode": {
    "name": "ipython",
    "version": 3
   },
   "file_extension": ".py",
   "mimetype": "text/x-python",
   "name": "python",
   "nbconvert_exporter": "python",
   "pygments_lexer": "ipython3",
   "version": "3.11.5"
  }
 },
 "nbformat": 4,
 "nbformat_minor": 5
}
