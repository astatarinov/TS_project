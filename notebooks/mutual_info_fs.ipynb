{
 "cells": [
  {
   "cell_type": "markdown",
   "id": "7a796ae9-be0f-4253-9503-c9256ac038c2",
   "metadata": {},
   "source": [
    "В этом ноутбке исследуется применение статистики **Mutual Information** для отбора признаков из нашего датасета. \n",
    "Часть кода позаимствовал [отсюда](https://www.kaggle.com/code/pabangiri/feature-selection-using-mutual-information/notebook)"
   ]
  },
  {
   "cell_type": "code",
   "execution_count": 75,
   "id": "9582d05e-66a7-485d-b264-756d4f906fc4",
   "metadata": {},
   "outputs": [],
   "source": [
    "import sys\n",
    "import os\n",
    "from pathlib import Path\n",
    "sys.path.insert(1, str(Path(os.getcwd()).resolve().parent))\n",
    "\n",
    "import pandas as pd \n",
    "pd.set_option('display.max_columns', 150)\n",
    "\n",
    "%load_ext autoreload\n",
    "%autoreload 1\n",
    "%aimport project.utils.data\n",
    "%aimport project.utils.metrics\n",
    "\n",
    "import numpy as np\n",
    "from project.utils.data import *\n",
    "\n",
    "from sktime.forecasting.all import temporal_train_test_split\n",
    "\n",
    "from sklearn.feature_selection import mutual_info_regression\n",
    "from sklearn.feature_selection import SelectPercentile\n",
    "\n",
    "import matplotlib.pyplot as plt"
   ]
  },
  {
   "cell_type": "code",
   "execution_count": 20,
   "id": "be629d6e-1863-4494-af16-ac50b28f3159",
   "metadata": {},
   "outputs": [],
   "source": [
    "df = create_target_features(load_extended_data(), 'balance')"
   ]
  },
  {
   "cell_type": "code",
   "execution_count": 22,
   "id": "ad7ee090-9937-432f-891d-4da50846bb21",
   "metadata": {},
   "outputs": [],
   "source": [
    "# df"
   ]
  },
  {
   "cell_type": "code",
   "execution_count": 23,
   "id": "a5676899-56dc-47b8-8cbf-fc39679b3543",
   "metadata": {},
   "outputs": [],
   "source": [
    "# creating lag features\n",
    "X = (\n",
    "    df.drop(columns=['balance', 'income', 'outcome', 'income - outcome'])\n",
    ")\n",
    "\n",
    "# cutting nulls after creating lags \n",
    "start = X[X.isnull().sum(axis=1) == 0].index.min()\n",
    "\n",
    "y, X = df['balance'][start:], X[start:]\n",
    "\n",
    "assert y.shape[0] == X.shape[0], 'alarm (shape)'\n",
    "assert y.index.min() == X.index.min(), 'alarm (dates)'"
   ]
  },
  {
   "cell_type": "code",
   "execution_count": 24,
   "id": "f8966663-753c-4e2a-8442-6ba15c597d23",
   "metadata": {},
   "outputs": [],
   "source": [
    "y_train, y_test, X_train, X_test = temporal_train_test_split(y, X, test_size=0.1)\n",
    "cbr_rate_train, cbr_rate_test = df.key_rate[y_train.index], df.key_rate[y_test.index]"
   ]
  },
  {
   "cell_type": "code",
   "execution_count": 84,
   "id": "5db3a09a-12b0-42df-904b-e9ee0f76e09a",
   "metadata": {},
   "outputs": [],
   "source": [
    "# determine the mutual information\n",
    "mutual_info = mutual_info_regression(X_train.fillna(0), y_train)"
   ]
  },
  {
   "cell_type": "code",
   "execution_count": 85,
   "id": "49002422-378a-462c-a8b5-535c7f84ef0a",
   "metadata": {},
   "outputs": [
    {
     "data": {
      "text/plain": [
       "non_working_day    0.547757\n",
       "balance_max_7      0.443124\n",
       "dtype: float64"
      ]
     },
     "execution_count": 85,
     "metadata": {},
     "output_type": "execute_result"
    }
   ],
   "source": [
    "mutual_info = pd.Series(mutual_info)\n",
    "mutual_info.index = X_train.columns\n",
    "mutual_info.sort_values(ascending=False).head(2)"
   ]
  },
  {
   "cell_type": "markdown",
   "id": "a6873aa0-7635-4ee5-b505-4f4cf740a518",
   "metadata": {},
   "source": [
    "Данных у нас немного, а если еще \"отрезать\" хвосты прошлого в случае разладок, то и того меньше, поэтому и признаки будем отбирать только потенциально самые полезные\n"
   ]
  },
  {
   "cell_type": "code",
   "execution_count": 86,
   "id": "57ccad4c-c649-479b-a3d9-dc8de1933977",
   "metadata": {},
   "outputs": [],
   "source": [
    "NUM_FEATURES = 20"
   ]
  },
  {
   "cell_type": "code",
   "execution_count": 90,
   "id": "88cca1f2-d6b4-4acd-956e-46a0d1a1024b",
   "metadata": {},
   "outputs": [],
   "source": [
    "by_train = list(mutual_info.sort_values(ascending=False).head(20).index)"
   ]
  },
  {
   "cell_type": "code",
   "execution_count": 92,
   "id": "25f1784c-8ee9-4122-9a4d-68b0ef94054e",
   "metadata": {},
   "outputs": [
    {
     "data": {
      "text/html": [
       "<div>\n",
       "<style scoped>\n",
       "    .dataframe tbody tr th:only-of-type {\n",
       "        vertical-align: middle;\n",
       "    }\n",
       "\n",
       "    .dataframe tbody tr th {\n",
       "        vertical-align: top;\n",
       "    }\n",
       "\n",
       "    .dataframe thead th {\n",
       "        text-align: right;\n",
       "    }\n",
       "</style>\n",
       "<table border=\"1\" class=\"dataframe\">\n",
       "  <thead>\n",
       "    <tr style=\"text-align: right;\">\n",
       "      <th></th>\n",
       "      <th>non_working_day</th>\n",
       "      <th>balance_max_7</th>\n",
       "      <th>non_working_day_usd</th>\n",
       "      <th>balance_min_7</th>\n",
       "      <th>L7_balance</th>\n",
       "      <th>balance_median_7</th>\n",
       "      <th>Sunday</th>\n",
       "      <th>balance_std_7</th>\n",
       "      <th>balance_mean_7</th>\n",
       "      <th>Saturday</th>\n",
       "      <th>mosprime_rub_1w</th>\n",
       "      <th>mosprime_rub_3m</th>\n",
       "      <th>mosprime_rub_1m</th>\n",
       "      <th>L1_balance</th>\n",
       "      <th>mosprime_rub_on</th>\n",
       "      <th>usd_xr</th>\n",
       "      <th>mosprime_rub_2w</th>\n",
       "      <th>mosprime_rub_6m</th>\n",
       "      <th>Monday</th>\n",
       "      <th>Wednesday</th>\n",
       "    </tr>\n",
       "    <tr>\n",
       "      <th>date</th>\n",
       "      <th></th>\n",
       "      <th></th>\n",
       "      <th></th>\n",
       "      <th></th>\n",
       "      <th></th>\n",
       "      <th></th>\n",
       "      <th></th>\n",
       "      <th></th>\n",
       "      <th></th>\n",
       "      <th></th>\n",
       "      <th></th>\n",
       "      <th></th>\n",
       "      <th></th>\n",
       "      <th></th>\n",
       "      <th></th>\n",
       "      <th></th>\n",
       "      <th></th>\n",
       "      <th></th>\n",
       "      <th></th>\n",
       "      <th></th>\n",
       "    </tr>\n",
       "  </thead>\n",
       "  <tbody>\n",
       "    <tr>\n",
       "      <th>2017-01-22</th>\n",
       "      <td>1</td>\n",
       "      <td>0.057996</td>\n",
       "      <td>1</td>\n",
       "      <td>-0.548519</td>\n",
       "      <td>0.000000</td>\n",
       "      <td>-0.005391</td>\n",
       "      <td>1</td>\n",
       "      <td>0.206446</td>\n",
       "      <td>-0.104945</td>\n",
       "      <td>0</td>\n",
       "      <td>10.46</td>\n",
       "      <td>10.5</td>\n",
       "      <td>10.46</td>\n",
       "      <td>0.0</td>\n",
       "      <td>10.30</td>\n",
       "      <td>59.6697</td>\n",
       "      <td>10.49</td>\n",
       "      <td>10.5</td>\n",
       "      <td>0</td>\n",
       "      <td>0</td>\n",
       "    </tr>\n",
       "    <tr>\n",
       "      <th>2017-01-23</th>\n",
       "      <td>0</td>\n",
       "      <td>0.000000</td>\n",
       "      <td>0</td>\n",
       "      <td>-0.548519</td>\n",
       "      <td>0.057996</td>\n",
       "      <td>-0.109346</td>\n",
       "      <td>0</td>\n",
       "      <td>0.193730</td>\n",
       "      <td>-0.128851</td>\n",
       "      <td>0</td>\n",
       "      <td>10.43</td>\n",
       "      <td>10.5</td>\n",
       "      <td>10.46</td>\n",
       "      <td>0.0</td>\n",
       "      <td>10.23</td>\n",
       "      <td>59.6697</td>\n",
       "      <td>10.44</td>\n",
       "      <td>10.5</td>\n",
       "      <td>1</td>\n",
       "      <td>0</td>\n",
       "    </tr>\n",
       "  </tbody>\n",
       "</table>\n",
       "</div>"
      ],
      "text/plain": [
       "            non_working_day  balance_max_7  non_working_day_usd  \\\n",
       "date                                                              \n",
       "2017-01-22                1       0.057996                    1   \n",
       "2017-01-23                0       0.000000                    0   \n",
       "\n",
       "            balance_min_7  L7_balance  balance_median_7  Sunday  \\\n",
       "date                                                              \n",
       "2017-01-22      -0.548519    0.000000         -0.005391       1   \n",
       "2017-01-23      -0.548519    0.057996         -0.109346       0   \n",
       "\n",
       "            balance_std_7  balance_mean_7  Saturday  mosprime_rub_1w  \\\n",
       "date                                                                   \n",
       "2017-01-22       0.206446       -0.104945         0            10.46   \n",
       "2017-01-23       0.193730       -0.128851         0            10.43   \n",
       "\n",
       "            mosprime_rub_3m  mosprime_rub_1m  L1_balance  mosprime_rub_on  \\\n",
       "date                                                                        \n",
       "2017-01-22             10.5            10.46         0.0            10.30   \n",
       "2017-01-23             10.5            10.46         0.0            10.23   \n",
       "\n",
       "             usd_xr  mosprime_rub_2w  mosprime_rub_6m  Monday  Wednesday  \n",
       "date                                                                      \n",
       "2017-01-22  59.6697            10.49             10.5       0          0  \n",
       "2017-01-23  59.6697            10.44             10.5       1          0  "
      ]
     },
     "execution_count": 92,
     "metadata": {},
     "output_type": "execute_result"
    }
   ],
   "source": [
    "X_train[by_train].head(2)"
   ]
  },
  {
   "cell_type": "code",
   "execution_count": 97,
   "id": "69b1b360-113f-48f9-b751-0165d6bd8626",
   "metadata": {},
   "outputs": [
    {
     "data": {
      "text/html": [
       "<style>#sk-container-id-3 {color: black;}#sk-container-id-3 pre{padding: 0;}#sk-container-id-3 div.sk-toggleable {background-color: white;}#sk-container-id-3 label.sk-toggleable__label {cursor: pointer;display: block;width: 100%;margin-bottom: 0;padding: 0.3em;box-sizing: border-box;text-align: center;}#sk-container-id-3 label.sk-toggleable__label-arrow:before {content: \"▸\";float: left;margin-right: 0.25em;color: #696969;}#sk-container-id-3 label.sk-toggleable__label-arrow:hover:before {color: black;}#sk-container-id-3 div.sk-estimator:hover label.sk-toggleable__label-arrow:before {color: black;}#sk-container-id-3 div.sk-toggleable__content {max-height: 0;max-width: 0;overflow: hidden;text-align: left;background-color: #f0f8ff;}#sk-container-id-3 div.sk-toggleable__content pre {margin: 0.2em;color: black;border-radius: 0.25em;background-color: #f0f8ff;}#sk-container-id-3 input.sk-toggleable__control:checked~div.sk-toggleable__content {max-height: 200px;max-width: 100%;overflow: auto;}#sk-container-id-3 input.sk-toggleable__control:checked~label.sk-toggleable__label-arrow:before {content: \"▾\";}#sk-container-id-3 div.sk-estimator input.sk-toggleable__control:checked~label.sk-toggleable__label {background-color: #d4ebff;}#sk-container-id-3 div.sk-label input.sk-toggleable__control:checked~label.sk-toggleable__label {background-color: #d4ebff;}#sk-container-id-3 input.sk-hidden--visually {border: 0;clip: rect(1px 1px 1px 1px);clip: rect(1px, 1px, 1px, 1px);height: 1px;margin: -1px;overflow: hidden;padding: 0;position: absolute;width: 1px;}#sk-container-id-3 div.sk-estimator {font-family: monospace;background-color: #f0f8ff;border: 1px dotted black;border-radius: 0.25em;box-sizing: border-box;margin-bottom: 0.5em;}#sk-container-id-3 div.sk-estimator:hover {background-color: #d4ebff;}#sk-container-id-3 div.sk-parallel-item::after {content: \"\";width: 100%;border-bottom: 1px solid gray;flex-grow: 1;}#sk-container-id-3 div.sk-label:hover label.sk-toggleable__label {background-color: #d4ebff;}#sk-container-id-3 div.sk-serial::before {content: \"\";position: absolute;border-left: 1px solid gray;box-sizing: border-box;top: 0;bottom: 0;left: 50%;z-index: 0;}#sk-container-id-3 div.sk-serial {display: flex;flex-direction: column;align-items: center;background-color: white;padding-right: 0.2em;padding-left: 0.2em;position: relative;}#sk-container-id-3 div.sk-item {position: relative;z-index: 1;}#sk-container-id-3 div.sk-parallel {display: flex;align-items: stretch;justify-content: center;background-color: white;position: relative;}#sk-container-id-3 div.sk-item::before, #sk-container-id-3 div.sk-parallel-item::before {content: \"\";position: absolute;border-left: 1px solid gray;box-sizing: border-box;top: 0;bottom: 0;left: 50%;z-index: -1;}#sk-container-id-3 div.sk-parallel-item {display: flex;flex-direction: column;z-index: 1;position: relative;background-color: white;}#sk-container-id-3 div.sk-parallel-item:first-child::after {align-self: flex-end;width: 50%;}#sk-container-id-3 div.sk-parallel-item:last-child::after {align-self: flex-start;width: 50%;}#sk-container-id-3 div.sk-parallel-item:only-child::after {width: 0;}#sk-container-id-3 div.sk-dashed-wrapped {border: 1px dashed gray;margin: 0 0.4em 0.5em 0.4em;box-sizing: border-box;padding-bottom: 0.4em;background-color: white;}#sk-container-id-3 div.sk-label label {font-family: monospace;font-weight: bold;display: inline-block;line-height: 1.2em;}#sk-container-id-3 div.sk-label-container {text-align: center;}#sk-container-id-3 div.sk-container {/* jupyter's `normalize.less` sets `[hidden] { display: none; }` but bootstrap.min.css set `[hidden] { display: none !important; }` so we also need the `!important` here to be able to override the default hidden behavior on the sphinx rendered scikit-learn.org. See: https://github.com/scikit-learn/scikit-learn/issues/21755 */display: inline-block !important;position: relative;}#sk-container-id-3 div.sk-text-repr-fallback {display: none;}</style><div id=\"sk-container-id-3\" class=\"sk-top-container\"><div class=\"sk-text-repr-fallback\"><pre>SelectPercentile(percentile=40,\n",
       "                 score_func=&lt;function mutual_info_regression at 0x16842d510&gt;)</pre><b>In a Jupyter environment, please rerun this cell to show the HTML representation or trust the notebook. <br />On GitHub, the HTML representation is unable to render, please try loading this page with nbviewer.org.</b></div><div class=\"sk-container\" hidden><div class=\"sk-item\"><div class=\"sk-estimator sk-toggleable\"><input class=\"sk-toggleable__control sk-hidden--visually\" id=\"sk-estimator-id-3\" type=\"checkbox\" checked><label for=\"sk-estimator-id-3\" class=\"sk-toggleable__label sk-toggleable__label-arrow\">SelectPercentile</label><div class=\"sk-toggleable__content\"><pre>SelectPercentile(percentile=40,\n",
       "                 score_func=&lt;function mutual_info_regression at 0x16842d510&gt;)</pre></div></div></div></div></div>"
      ],
      "text/plain": [
       "SelectPercentile(percentile=40,\n",
       "                 score_func=<function mutual_info_regression at 0x16842d510>)"
      ]
     },
     "execution_count": 97,
     "metadata": {},
     "output_type": "execute_result"
    }
   ],
   "source": [
    "## Selecting the top 20 percentile\n",
    "selected_top_columns = SelectPercentile(mutual_info_regression, percentile=40)\n",
    "selected_top_columns.fit(X_train.fillna(0), y_train)"
   ]
  },
  {
   "cell_type": "code",
   "execution_count": 30,
   "id": "66c3db33-a759-439b-be8d-9d8a0e575202",
   "metadata": {},
   "outputs": [
    {
     "data": {
      "text/plain": [
       "Index(['non_working_day', 'non_working_day_usd', 'mosprime_rub_3m', 'Saturday',\n",
       "       'Sunday', 'balance_mean_7', 'balance_std_7', 'balance_min_7',\n",
       "       'balance_max_7', 'balance_median_7', 'L7_balance'],\n",
       "      dtype='object')"
      ]
     },
     "execution_count": 30,
     "metadata": {},
     "output_type": "execute_result"
    }
   ],
   "source": [
    "X_train.columns[selected_top_columns.get_support()]"
   ]
  },
  {
   "cell_type": "markdown",
   "id": "0ec6f575-e2a3-42dc-9cc3-03c49979aa86",
   "metadata": {},
   "source": [
    "Минутка экономической интуиции: \n",
    "\n",
    "Как можно понимать стабильность FS? Как будто имеет смысл посмотреть насколько пересекаются множества признаков во времени\n",
    "\n",
    "Попробуем посэмплить данные из выборки и смотреть какая доля из признаков, отобранных на всем датасете собирается на этом кусочке данных"
   ]
  },
  {
   "cell_type": "code",
   "execution_count": 55,
   "id": "232f035c-bba7-48b8-8ccb-a6ac50a87701",
   "metadata": {},
   "outputs": [],
   "source": [
    "def select_topN_mutual_info(y, X, N=20):\n",
    "\n",
    "    # determine the mutual information\n",
    "    mutual_info = mutual_info_regression(X.fillna(0), y)\n",
    "    mutual_info = pd.Series(mutual_info)\n",
    "    mutual_info.index = X.columns\n",
    "    return list(mutual_info.sort_values(ascending=False).head(20).index)\n",
    "    "
   ]
  },
  {
   "cell_type": "code",
   "execution_count": 59,
   "id": "f4dec3ca-801e-4896-b2f4-506547c4a69f",
   "metadata": {},
   "outputs": [],
   "source": [
    "by_all_data = select_topN_mutual_info(y, X)"
   ]
  },
  {
   "cell_type": "code",
   "execution_count": 93,
   "id": "a2a178cf-7cd1-4842-87e5-64372b6b9627",
   "metadata": {},
   "outputs": [],
   "source": [
    "bootstrap_res = []\n",
    "N_sample = 300\n",
    "\n",
    "for _ in range(100):\n",
    "    bootstrap_idx = list(np.random.choice(X.index, N_sample, True))\n",
    "    bootstrap_res.append(\n",
    "        set(\n",
    "            select_topN_mutual_info(y.loc[bootstrap_idx], X.loc[bootstrap_idx])\n",
    "        )\n",
    "    )"
   ]
  },
  {
   "cell_type": "code",
   "execution_count": 73,
   "id": "e1172c68-6b3a-4a1f-9f78-a0e8fb8c73ec",
   "metadata": {},
   "outputs": [],
   "source": [
    "shares = [\n",
    "    len(set(by_all_data).intersection(i)) / len(by_all_data) for i in bootstrap_res\n",
    "]"
   ]
  },
  {
   "cell_type": "code",
   "execution_count": 100,
   "id": "b0a16e08-2c0c-4855-8293-b46b7ae6fde9",
   "metadata": {},
   "outputs": [
    {
     "data": {
      "image/png": "[encoded data removed]",
      "text/plain": [
       "<Figure size 640x480 with 1 Axes>"
      ]
     },
     "metadata": {},
     "output_type": "display_data"
    }
   ],
   "source": [
    "plt.hist(shares, bins=10);"
   ]
  },
  {
   "cell_type": "code",
   "execution_count": 95,
   "id": "b047347c-ac85-41a5-898e-8984567aad44",
   "metadata": {},
   "outputs": [
    {
     "data": {
      "text/plain": [
       "(0.8039999999999999, 0.046733285782191686)"
      ]
     },
     "execution_count": 95,
     "metadata": {},
     "output_type": "execute_result"
    }
   ],
   "source": [
    "np.mean(shares), np.std(shares)"
   ]
  },
  {
   "cell_type": "markdown",
   "id": "13720abd-7910-417b-abb3-004ebff7b887",
   "metadata": {},
   "source": [
    "Считаю, что для сэмплов меньше 20% выборки еще и с повторами, результаты более, чем стабильные \n",
    "\n",
    "Можем добавлять в пайплайн и не бояться, что от нового наблюдения весь FS поплывет"
   ]
  },
  {
   "cell_type": "code",
   "execution_count": null,
   "id": "7ff731c4-457f-49b3-ac34-a0cd795c1029",
   "metadata": {},
   "outputs": [],
   "source": []
  },
  {
   "cell_type": "code",
   "execution_count": null,
   "id": "c8886ab8-997d-4323-9cbb-1426ea511ec8",
   "metadata": {},
   "outputs": [],
   "source": []
  }
 ],
 "metadata": {
  "kernelspec": {
   "display_name": "Python 3 (ipykernel)",
   "language": "python",
   "name": "python3"
  },
  "language_info": {
   "codemirror_mode": {
    "name": "ipython",
    "version": 3
   },
   "file_extension": ".py",
   "mimetype": "text/x-python",
   "name": "python",
   "nbconvert_exporter": "python",
   "pygments_lexer": "ipython3",
   "version": "3.10.11"
  }
 },
 "nbformat": 4,
 "nbformat_minor": 5
}
