{
 "cells": [
  {
   "cell_type": "markdown",
   "id": "677e74f5-78ed-40a2-b1ef-14824891f81b",
   "metadata": {},
   "source": [
    "# Raw data processing"
   ]
  },
  {
   "cell_type": "code",
   "execution_count": 1,
   "id": "8c86d021-0f94-4665-9d4a-514806f695c8",
   "metadata": {
    "ExecuteTime": {
     "end_time": "2024-04-10T22:17:08.985849Z",
     "start_time": "2024-04-10T22:17:08.700583Z"
    }
   },
   "outputs": [],
   "source": [
    "import pandas as pd\n",
    "from project.config import DATA_PATH"
   ]
  },
  {
   "cell_type": "code",
   "execution_count": 2,
   "id": "a88663fe-239d-4304-b5de-c9bad3b037de",
   "metadata": {
    "ExecuteTime": {
     "end_time": "2024-04-10T22:17:09.136805Z",
     "start_time": "2024-04-10T22:17:08.988010Z"
    }
   },
   "outputs": [],
   "source": [
    "processed_data = (\n",
    "    pd.read_excel(DATA_PATH / 'raw_data.xlsx')\n",
    "    .rename(\n",
    "        columns={\n",
    "            'Date': 'date',\n",
    "            'Income': 'income',\n",
    "            'Outcome': 'outcome',\n",
    "            'Balance': 'balance',\n",
    "        }\n",
    "    )\n",
    "    .assign(date=lambda df: pd.to_datetime(df['date']).dt.date)\n",
    "    .astype(\n",
    "        {\n",
    "            'date': str,\n",
    "            'income': float,\n",
    "            'outcome': float,\n",
    "            'balance': float,\n",
    "        }\n",
    "    )\n",
    "    .set_index('date')\n",
    "    .sort_index()\n",
    ")"
   ]
  },
  {
   "cell_type": "code",
   "execution_count": 3,
   "id": "60456a11-9f2d-4746-bc86-a56278257122",
   "metadata": {
    "ExecuteTime": {
     "end_time": "2024-04-10T22:17:09.204092Z",
     "start_time": "2024-04-10T22:17:09.199756Z"
    }
   },
   "outputs": [
    {
     "data": {
      "text/plain": "              income   outcome   balance\ndate                                    \n2017-01-09  1.343028  1.487865 -0.155904\n2017-01-10  1.068610  1.194182 -0.125572\n2017-01-11  0.944429  0.936663  0.007767\n2017-01-12  1.672202  0.875379  0.800391\n2017-01-13  0.955924  0.975645 -0.019721",
      "text/html": "<div>\n<style scoped>\n    .dataframe tbody tr th:only-of-type {\n        vertical-align: middle;\n    }\n\n    .dataframe tbody tr th {\n        vertical-align: top;\n    }\n\n    .dataframe thead th {\n        text-align: right;\n    }\n</style>\n<table border=\"1\" class=\"dataframe\">\n  <thead>\n    <tr style=\"text-align: right;\">\n      <th></th>\n      <th>income</th>\n      <th>outcome</th>\n      <th>balance</th>\n    </tr>\n    <tr>\n      <th>date</th>\n      <th></th>\n      <th></th>\n      <th></th>\n    </tr>\n  </thead>\n  <tbody>\n    <tr>\n      <th>2017-01-09</th>\n      <td>1.343028</td>\n      <td>1.487865</td>\n      <td>-0.155904</td>\n    </tr>\n    <tr>\n      <th>2017-01-10</th>\n      <td>1.068610</td>\n      <td>1.194182</td>\n      <td>-0.125572</td>\n    </tr>\n    <tr>\n      <th>2017-01-11</th>\n      <td>0.944429</td>\n      <td>0.936663</td>\n      <td>0.007767</td>\n    </tr>\n    <tr>\n      <th>2017-01-12</th>\n      <td>1.672202</td>\n      <td>0.875379</td>\n      <td>0.800391</td>\n    </tr>\n    <tr>\n      <th>2017-01-13</th>\n      <td>0.955924</td>\n      <td>0.975645</td>\n      <td>-0.019721</td>\n    </tr>\n  </tbody>\n</table>\n</div>"
     },
     "execution_count": 3,
     "metadata": {},
     "output_type": "execute_result"
    }
   ],
   "source": [
    "processed_data.head()"
   ]
  },
  {
   "cell_type": "code",
   "execution_count": 4,
   "id": "eea03718-5993-4766-8abf-dbdda7a494af",
   "metadata": {
    "ExecuteTime": {
     "end_time": "2024-04-10T22:17:09.903228Z",
     "start_time": "2024-04-10T22:17:09.890051Z"
    }
   },
   "outputs": [
    {
     "data": {
      "text/plain": "(1543, 3)"
     },
     "execution_count": 4,
     "metadata": {},
     "output_type": "execute_result"
    }
   ],
   "source": [
    "processed_data.shape"
   ]
  },
  {
   "cell_type": "code",
   "execution_count": 5,
   "id": "7a743b2c-07cd-4a0a-808c-3f46087efcc5",
   "metadata": {
    "ExecuteTime": {
     "end_time": "2024-04-10T22:17:10.184740Z",
     "start_time": "2024-04-10T22:17:10.179928Z"
    }
   },
   "outputs": [
    {
     "data": {
      "text/plain": "1.34302844519589"
     },
     "execution_count": 5,
     "metadata": {},
     "output_type": "execute_result"
    }
   ],
   "source": [
    "processed_data.loc['2017-01-09', 'income']"
   ]
  },
  {
   "cell_type": "code",
   "execution_count": 6,
   "id": "9e8ead9a-b8cb-44ca-bd38-770ed42ec8e2",
   "metadata": {
    "ExecuteTime": {
     "end_time": "2024-04-10T22:17:10.856012Z",
     "start_time": "2024-04-10T22:17:10.833188Z"
    }
   },
   "outputs": [],
   "source": [
    "processed_data.to_csv(DATA_PATH / 'balances.csv')"
   ]
  },
  {
   "cell_type": "code",
   "execution_count": null,
   "id": "931063eb-e77f-4aa1-a746-60ba7e4df02c",
   "metadata": {},
   "outputs": [],
   "source": []
  }
 ],
 "metadata": {
  "kernelspec": {
   "display_name": "venv",
   "language": "python",
   "name": "venv"
  },
  "language_info": {
   "codemirror_mode": {
    "name": "ipython",
    "version": 3
   },
   "file_extension": ".py",
   "mimetype": "text/x-python",
   "name": "python",
   "nbconvert_exporter": "python",
   "pygments_lexer": "ipython3",
   "version": "3.11.5"
  }
 },
 "nbformat": 4,
 "nbformat_minor": 5
}
