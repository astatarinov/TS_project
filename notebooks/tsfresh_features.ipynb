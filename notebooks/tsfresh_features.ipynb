{
 "cells": [
  {
   "cell_type": "markdown",
   "source": [
    "# Features ft. tsfresh \n",
    "\n",
    "Based on [article](https://otus.ru/nest/post/1024/)"
   ],
   "metadata": {
    "collapsed": false
   },
   "id": "9c3499ef00872129"
  },
  {
   "cell_type": "code",
   "outputs": [],
   "source": [
    "import numpy as np\n",
    "import pandas as pd\n",
    "from tsfresh import extract_relevant_features\n",
    "from tsfresh.feature_extraction import settings\n",
    "\n",
    "from project.utils.data import load_extended_data"
   ],
   "metadata": {
    "collapsed": false,
    "ExecuteTime": {
     "end_time": "2024-04-14T14:07:41.478463Z",
     "start_time": "2024-04-14T14:07:40.706495Z"
    }
   },
   "id": "87f55c71a8009b43",
   "execution_count": 1
  },
  {
   "cell_type": "markdown",
   "source": [
    "### Load data"
   ],
   "metadata": {
    "collapsed": false
   },
   "id": "c7510de5c426ef67"
  },
  {
   "cell_type": "code",
   "outputs": [],
   "source": [
    "data = load_extended_data()"
   ],
   "metadata": {
    "collapsed": false,
    "ExecuteTime": {
     "end_time": "2024-04-14T14:07:41.488339Z",
     "start_time": "2024-04-14T14:07:41.479569Z"
    }
   },
   "id": "210932fe36bb12c",
   "execution_count": 2
  },
  {
   "cell_type": "code",
   "outputs": [
    {
     "data": {
      "text/plain": "(1537, 51)"
     },
     "execution_count": 3,
     "metadata": {},
     "output_type": "execute_result"
    }
   ],
   "source": [
    "data.shape"
   ],
   "metadata": {
    "collapsed": false,
    "ExecuteTime": {
     "end_time": "2024-04-14T14:07:41.491513Z",
     "start_time": "2024-04-14T14:07:41.488866Z"
    }
   },
   "id": "a4c62e78fb7753c9",
   "execution_count": 3
  },
  {
   "cell_type": "code",
   "outputs": [
    {
     "data": {
      "text/plain": "              income   outcome   balance  income - outcome  non_working_day  \\\ndate                                                                          \n2017-01-15  0.000000  0.000000  0.000000          0.000000                1   \n2017-01-16  1.082341  1.024345  0.057996          0.057996                0   \n2017-01-17  0.896334  1.448364 -0.548519         -0.552030                0   \n2017-01-18  0.754759  0.879560 -0.124801         -0.124801                0   \n2017-01-19  0.949877  0.955268 -0.005391         -0.005391                0   \n\n            non_working_day_usd  isholiday  key_rate  mosprime_rub_1m  \\\ndate                                                                    \n2017-01-15                    1          0      10.0            10.51   \n2017-01-16                    1          0      10.0            10.47   \n2017-01-17                    0          0      10.0            10.46   \n2017-01-18                    0          0      10.0            10.46   \n2017-01-19                    0          0      10.0            10.46   \n\n            mosprime_rub_1w  ...  March  April  May  June  July  August  \\\ndate                         ...                                          \n2017-01-15            10.40  ...      0      0    0     0     0       0   \n2017-01-16            10.42  ...      0      0    0     0     0       0   \n2017-01-17            10.42  ...      0      0    0     0     0       0   \n2017-01-18            10.42  ...      0      0    0     0     0       0   \n2017-01-19            10.48  ...      0      0    0     0     0       0   \n\n            September  October  November  December  \ndate                                                \n2017-01-15          0        0         0         0  \n2017-01-16          0        0         0         0  \n2017-01-17          0        0         0         0  \n2017-01-18          0        0         0         0  \n2017-01-19          0        0         0         0  \n\n[5 rows x 51 columns]",
      "text/html": "<div>\n<style scoped>\n    .dataframe tbody tr th:only-of-type {\n        vertical-align: middle;\n    }\n\n    .dataframe tbody tr th {\n        vertical-align: top;\n    }\n\n    .dataframe thead th {\n        text-align: right;\n    }\n</style>\n<table border=\"1\" class=\"dataframe\">\n  <thead>\n    <tr style=\"text-align: right;\">\n      <th></th>\n      <th>income</th>\n      <th>outcome</th>\n      <th>balance</th>\n      <th>income - outcome</th>\n      <th>non_working_day</th>\n      <th>non_working_day_usd</th>\n      <th>isholiday</th>\n      <th>key_rate</th>\n      <th>mosprime_rub_1m</th>\n      <th>mosprime_rub_1w</th>\n      <th>...</th>\n      <th>March</th>\n      <th>April</th>\n      <th>May</th>\n      <th>June</th>\n      <th>July</th>\n      <th>August</th>\n      <th>September</th>\n      <th>October</th>\n      <th>November</th>\n      <th>December</th>\n    </tr>\n    <tr>\n      <th>date</th>\n      <th></th>\n      <th></th>\n      <th></th>\n      <th></th>\n      <th></th>\n      <th></th>\n      <th></th>\n      <th></th>\n      <th></th>\n      <th></th>\n      <th></th>\n      <th></th>\n      <th></th>\n      <th></th>\n      <th></th>\n      <th></th>\n      <th></th>\n      <th></th>\n      <th></th>\n      <th></th>\n      <th></th>\n    </tr>\n  </thead>\n  <tbody>\n    <tr>\n      <th>2017-01-15</th>\n      <td>0.000000</td>\n      <td>0.000000</td>\n      <td>0.000000</td>\n      <td>0.000000</td>\n      <td>1</td>\n      <td>1</td>\n      <td>0</td>\n      <td>10.0</td>\n      <td>10.51</td>\n      <td>10.40</td>\n      <td>...</td>\n      <td>0</td>\n      <td>0</td>\n      <td>0</td>\n      <td>0</td>\n      <td>0</td>\n      <td>0</td>\n      <td>0</td>\n      <td>0</td>\n      <td>0</td>\n      <td>0</td>\n    </tr>\n    <tr>\n      <th>2017-01-16</th>\n      <td>1.082341</td>\n      <td>1.024345</td>\n      <td>0.057996</td>\n      <td>0.057996</td>\n      <td>0</td>\n      <td>1</td>\n      <td>0</td>\n      <td>10.0</td>\n      <td>10.47</td>\n      <td>10.42</td>\n      <td>...</td>\n      <td>0</td>\n      <td>0</td>\n      <td>0</td>\n      <td>0</td>\n      <td>0</td>\n      <td>0</td>\n      <td>0</td>\n      <td>0</td>\n      <td>0</td>\n      <td>0</td>\n    </tr>\n    <tr>\n      <th>2017-01-17</th>\n      <td>0.896334</td>\n      <td>1.448364</td>\n      <td>-0.548519</td>\n      <td>-0.552030</td>\n      <td>0</td>\n      <td>0</td>\n      <td>0</td>\n      <td>10.0</td>\n      <td>10.46</td>\n      <td>10.42</td>\n      <td>...</td>\n      <td>0</td>\n      <td>0</td>\n      <td>0</td>\n      <td>0</td>\n      <td>0</td>\n      <td>0</td>\n      <td>0</td>\n      <td>0</td>\n      <td>0</td>\n      <td>0</td>\n    </tr>\n    <tr>\n      <th>2017-01-18</th>\n      <td>0.754759</td>\n      <td>0.879560</td>\n      <td>-0.124801</td>\n      <td>-0.124801</td>\n      <td>0</td>\n      <td>0</td>\n      <td>0</td>\n      <td>10.0</td>\n      <td>10.46</td>\n      <td>10.42</td>\n      <td>...</td>\n      <td>0</td>\n      <td>0</td>\n      <td>0</td>\n      <td>0</td>\n      <td>0</td>\n      <td>0</td>\n      <td>0</td>\n      <td>0</td>\n      <td>0</td>\n      <td>0</td>\n    </tr>\n    <tr>\n      <th>2017-01-19</th>\n      <td>0.949877</td>\n      <td>0.955268</td>\n      <td>-0.005391</td>\n      <td>-0.005391</td>\n      <td>0</td>\n      <td>0</td>\n      <td>0</td>\n      <td>10.0</td>\n      <td>10.46</td>\n      <td>10.48</td>\n      <td>...</td>\n      <td>0</td>\n      <td>0</td>\n      <td>0</td>\n      <td>0</td>\n      <td>0</td>\n      <td>0</td>\n      <td>0</td>\n      <td>0</td>\n      <td>0</td>\n      <td>0</td>\n    </tr>\n  </tbody>\n</table>\n<p>5 rows × 51 columns</p>\n</div>"
     },
     "execution_count": 4,
     "metadata": {},
     "output_type": "execute_result"
    }
   ],
   "source": [
    "data.head()"
   ],
   "metadata": {
    "collapsed": false,
    "ExecuteTime": {
     "end_time": "2024-04-14T14:07:41.499516Z",
     "start_time": "2024-04-14T14:07:41.492139Z"
    }
   },
   "id": "dd65bf93b9c4e3a5",
   "execution_count": 4
  },
  {
   "cell_type": "code",
   "outputs": [],
   "source": [
    "y = data['balance']\n",
    "data = data.drop(columns='balance')"
   ],
   "metadata": {
    "collapsed": false,
    "ExecuteTime": {
     "end_time": "2024-04-14T14:07:41.502626Z",
     "start_time": "2024-04-14T14:07:41.500842Z"
    }
   },
   "id": "5d258ff03c4b992f",
   "execution_count": 5
  },
  {
   "cell_type": "markdown",
   "source": [
    "### Setup config"
   ],
   "metadata": {
    "collapsed": false
   },
   "id": "33aaadfdd3fbc927"
  },
  {
   "cell_type": "code",
   "outputs": [
    {
     "name": "stdout",
     "output_type": "stream",
     "text": [
      "N_features: 10\n"
     ]
    },
    {
     "data": {
      "text/plain": "{'sum_values': None, 'median': None, 'mean': None, 'length': None, 'standard_deviation': None, 'variance': None, 'root_mean_square': None, 'maximum': None, 'absolute_maximum': None, 'minimum': None}"
     },
     "execution_count": 6,
     "metadata": {},
     "output_type": "execute_result"
    }
   ],
   "source": [
    "settings_minimal = settings.MinimalFCParameters()\n",
    "print(f'N_features: {len(settings_minimal)}')\n",
    "settings_minimal"
   ],
   "metadata": {
    "collapsed": false,
    "ExecuteTime": {
     "end_time": "2024-04-14T14:07:41.506238Z",
     "start_time": "2024-04-14T14:07:41.503256Z"
    }
   },
   "id": "e9e125ab8cba5c54",
   "execution_count": 6
  },
  {
   "cell_type": "code",
   "outputs": [
    {
     "name": "stdout",
     "output_type": "stream",
     "text": [
      "N_features: 1\n"
     ]
    },
    {
     "data": {
      "text/plain": "{'linear_trend_timewise': [{'attr': 'pvalue'}, {'attr': 'rvalue'}, {'attr': 'intercept'}, {'attr': 'slope'}, {'attr': 'stderr'}]}"
     },
     "execution_count": 7,
     "metadata": {},
     "output_type": "execute_result"
    }
   ],
   "source": [
    "settings_time = settings.TimeBasedFCParameters()\n",
    "print(f'N_features: {len(settings_time)}')\n",
    "settings_time"
   ],
   "metadata": {
    "collapsed": false,
    "ExecuteTime": {
     "end_time": "2024-04-14T14:07:41.508964Z",
     "start_time": "2024-04-14T14:07:41.506690Z"
    }
   },
   "id": "fad31eda2ea5f7e9",
   "execution_count": 7
  },
  {
   "cell_type": "code",
   "outputs": [
    {
     "name": "stdout",
     "output_type": "stream",
     "text": [
      "N_features: 73\n"
     ]
    },
    {
     "data": {
      "text/plain": "{'variance_larger_than_standard_deviation': None, 'has_duplicate_max': None, 'has_duplicate_min': None, 'has_duplicate': None, 'sum_values': None, 'abs_energy': None, 'mean_abs_change': None, 'mean_change': None, 'mean_second_derivative_central': None, 'median': None, 'mean': None, 'length': None, 'standard_deviation': None, 'variation_coefficient': None, 'variance': None, 'skewness': None, 'kurtosis': None, 'root_mean_square': None, 'absolute_sum_of_changes': None, 'longest_strike_below_mean': None, 'longest_strike_above_mean': None, 'count_above_mean': None, 'count_below_mean': None, 'last_location_of_maximum': None, 'first_location_of_maximum': None, 'last_location_of_minimum': None, 'first_location_of_minimum': None, 'percentage_of_reoccurring_values_to_all_values': None, 'percentage_of_reoccurring_datapoints_to_all_datapoints': None, 'sum_of_reoccurring_values': None, 'sum_of_reoccurring_data_points': None, 'ratio_value_number_to_time_series_length': None, 'maximum': None, 'absolute_maximum': None, 'minimum': None, 'benford_correlation': None, 'time_reversal_asymmetry_statistic': [{'lag': 1}, {'lag': 2}, {'lag': 3}], 'c3': [{'lag': 1}, {'lag': 2}, {'lag': 3}], 'cid_ce': [{'normalize': True}, {'normalize': False}], 'symmetry_looking': [{'r': 0.0}, {'r': 0.05}, {'r': 0.1}, {'r': 0.15000000000000002}, {'r': 0.2}, {'r': 0.25}, {'r': 0.30000000000000004}, {'r': 0.35000000000000003}, {'r': 0.4}, {'r': 0.45}, {'r': 0.5}, {'r': 0.55}, {'r': 0.6000000000000001}, {'r': 0.65}, {'r': 0.7000000000000001}, {'r': 0.75}, {'r': 0.8}, {'r': 0.8500000000000001}, {'r': 0.9}, {'r': 0.9500000000000001}], 'large_standard_deviation': [{'r': 0.05}, {'r': 0.1}, {'r': 0.15000000000000002}, {'r': 0.2}, {'r': 0.25}, {'r': 0.30000000000000004}, {'r': 0.35000000000000003}, {'r': 0.4}, {'r': 0.45}, {'r': 0.5}, {'r': 0.55}, {'r': 0.6000000000000001}, {'r': 0.65}, {'r': 0.7000000000000001}, {'r': 0.75}, {'r': 0.8}, {'r': 0.8500000000000001}, {'r': 0.9}, {'r': 0.9500000000000001}], 'quantile': [{'q': 0.1}, {'q': 0.2}, {'q': 0.3}, {'q': 0.4}, {'q': 0.6}, {'q': 0.7}, {'q': 0.8}, {'q': 0.9}], 'autocorrelation': [{'lag': 0}, {'lag': 1}, {'lag': 2}, {'lag': 3}, {'lag': 4}, {'lag': 5}, {'lag': 6}, {'lag': 7}, {'lag': 8}, {'lag': 9}], 'agg_autocorrelation': [{'f_agg': 'mean', 'maxlag': 40}, {'f_agg': 'median', 'maxlag': 40}, {'f_agg': 'var', 'maxlag': 40}], 'partial_autocorrelation': [{'lag': 0}, {'lag': 1}, {'lag': 2}, {'lag': 3}, {'lag': 4}, {'lag': 5}, {'lag': 6}, {'lag': 7}, {'lag': 8}, {'lag': 9}], 'number_cwt_peaks': [{'n': 1}, {'n': 5}], 'number_peaks': [{'n': 1}, {'n': 3}, {'n': 5}, {'n': 10}, {'n': 50}], 'binned_entropy': [{'max_bins': 10}], 'index_mass_quantile': [{'q': 0.1}, {'q': 0.2}, {'q': 0.3}, {'q': 0.4}, {'q': 0.6}, {'q': 0.7}, {'q': 0.8}, {'q': 0.9}], 'cwt_coefficients': [{'widths': (2, 5, 10, 20), 'coeff': 0, 'w': 2}, {'widths': (2, 5, 10, 20), 'coeff': 0, 'w': 5}, {'widths': (2, 5, 10, 20), 'coeff': 0, 'w': 10}, {'widths': (2, 5, 10, 20), 'coeff': 0, 'w': 20}, {'widths': (2, 5, 10, 20), 'coeff': 1, 'w': 2}, {'widths': (2, 5, 10, 20), 'coeff': 1, 'w': 5}, {'widths': (2, 5, 10, 20), 'coeff': 1, 'w': 10}, {'widths': (2, 5, 10, 20), 'coeff': 1, 'w': 20}, {'widths': (2, 5, 10, 20), 'coeff': 2, 'w': 2}, {'widths': (2, 5, 10, 20), 'coeff': 2, 'w': 5}, {'widths': (2, 5, 10, 20), 'coeff': 2, 'w': 10}, {'widths': (2, 5, 10, 20), 'coeff': 2, 'w': 20}, {'widths': (2, 5, 10, 20), 'coeff': 3, 'w': 2}, {'widths': (2, 5, 10, 20), 'coeff': 3, 'w': 5}, {'widths': (2, 5, 10, 20), 'coeff': 3, 'w': 10}, {'widths': (2, 5, 10, 20), 'coeff': 3, 'w': 20}, {'widths': (2, 5, 10, 20), 'coeff': 4, 'w': 2}, {'widths': (2, 5, 10, 20), 'coeff': 4, 'w': 5}, {'widths': (2, 5, 10, 20), 'coeff': 4, 'w': 10}, {'widths': (2, 5, 10, 20), 'coeff': 4, 'w': 20}, {'widths': (2, 5, 10, 20), 'coeff': 5, 'w': 2}, {'widths': (2, 5, 10, 20), 'coeff': 5, 'w': 5}, {'widths': (2, 5, 10, 20), 'coeff': 5, 'w': 10}, {'widths': (2, 5, 10, 20), 'coeff': 5, 'w': 20}, {'widths': (2, 5, 10, 20), 'coeff': 6, 'w': 2}, {'widths': (2, 5, 10, 20), 'coeff': 6, 'w': 5}, {'widths': (2, 5, 10, 20), 'coeff': 6, 'w': 10}, {'widths': (2, 5, 10, 20), 'coeff': 6, 'w': 20}, {'widths': (2, 5, 10, 20), 'coeff': 7, 'w': 2}, {'widths': (2, 5, 10, 20), 'coeff': 7, 'w': 5}, {'widths': (2, 5, 10, 20), 'coeff': 7, 'w': 10}, {'widths': (2, 5, 10, 20), 'coeff': 7, 'w': 20}, {'widths': (2, 5, 10, 20), 'coeff': 8, 'w': 2}, {'widths': (2, 5, 10, 20), 'coeff': 8, 'w': 5}, {'widths': (2, 5, 10, 20), 'coeff': 8, 'w': 10}, {'widths': (2, 5, 10, 20), 'coeff': 8, 'w': 20}, {'widths': (2, 5, 10, 20), 'coeff': 9, 'w': 2}, {'widths': (2, 5, 10, 20), 'coeff': 9, 'w': 5}, {'widths': (2, 5, 10, 20), 'coeff': 9, 'w': 10}, {'widths': (2, 5, 10, 20), 'coeff': 9, 'w': 20}, {'widths': (2, 5, 10, 20), 'coeff': 10, 'w': 2}, {'widths': (2, 5, 10, 20), 'coeff': 10, 'w': 5}, {'widths': (2, 5, 10, 20), 'coeff': 10, 'w': 10}, {'widths': (2, 5, 10, 20), 'coeff': 10, 'w': 20}, {'widths': (2, 5, 10, 20), 'coeff': 11, 'w': 2}, {'widths': (2, 5, 10, 20), 'coeff': 11, 'w': 5}, {'widths': (2, 5, 10, 20), 'coeff': 11, 'w': 10}, {'widths': (2, 5, 10, 20), 'coeff': 11, 'w': 20}, {'widths': (2, 5, 10, 20), 'coeff': 12, 'w': 2}, {'widths': (2, 5, 10, 20), 'coeff': 12, 'w': 5}, {'widths': (2, 5, 10, 20), 'coeff': 12, 'w': 10}, {'widths': (2, 5, 10, 20), 'coeff': 12, 'w': 20}, {'widths': (2, 5, 10, 20), 'coeff': 13, 'w': 2}, {'widths': (2, 5, 10, 20), 'coeff': 13, 'w': 5}, {'widths': (2, 5, 10, 20), 'coeff': 13, 'w': 10}, {'widths': (2, 5, 10, 20), 'coeff': 13, 'w': 20}, {'widths': (2, 5, 10, 20), 'coeff': 14, 'w': 2}, {'widths': (2, 5, 10, 20), 'coeff': 14, 'w': 5}, {'widths': (2, 5, 10, 20), 'coeff': 14, 'w': 10}, {'widths': (2, 5, 10, 20), 'coeff': 14, 'w': 20}], 'spkt_welch_density': [{'coeff': 2}, {'coeff': 5}, {'coeff': 8}], 'ar_coefficient': [{'coeff': 0, 'k': 10}, {'coeff': 1, 'k': 10}, {'coeff': 2, 'k': 10}, {'coeff': 3, 'k': 10}, {'coeff': 4, 'k': 10}, {'coeff': 5, 'k': 10}, {'coeff': 6, 'k': 10}, {'coeff': 7, 'k': 10}, {'coeff': 8, 'k': 10}, {'coeff': 9, 'k': 10}, {'coeff': 10, 'k': 10}], 'change_quantiles': [{'ql': 0.0, 'qh': 0.2, 'isabs': False, 'f_agg': 'mean'}, {'ql': 0.0, 'qh': 0.2, 'isabs': False, 'f_agg': 'var'}, {'ql': 0.0, 'qh': 0.2, 'isabs': True, 'f_agg': 'mean'}, {'ql': 0.0, 'qh': 0.2, 'isabs': True, 'f_agg': 'var'}, {'ql': 0.0, 'qh': 0.4, 'isabs': False, 'f_agg': 'mean'}, {'ql': 0.0, 'qh': 0.4, 'isabs': False, 'f_agg': 'var'}, {'ql': 0.0, 'qh': 0.4, 'isabs': True, 'f_agg': 'mean'}, {'ql': 0.0, 'qh': 0.4, 'isabs': True, 'f_agg': 'var'}, {'ql': 0.0, 'qh': 0.6, 'isabs': False, 'f_agg': 'mean'}, {'ql': 0.0, 'qh': 0.6, 'isabs': False, 'f_agg': 'var'}, {'ql': 0.0, 'qh': 0.6, 'isabs': True, 'f_agg': 'mean'}, {'ql': 0.0, 'qh': 0.6, 'isabs': True, 'f_agg': 'var'}, {'ql': 0.0, 'qh': 0.8, 'isabs': False, 'f_agg': 'mean'}, {'ql': 0.0, 'qh': 0.8, 'isabs': False, 'f_agg': 'var'}, {'ql': 0.0, 'qh': 0.8, 'isabs': True, 'f_agg': 'mean'}, {'ql': 0.0, 'qh': 0.8, 'isabs': True, 'f_agg': 'var'}, {'ql': 0.0, 'qh': 1.0, 'isabs': False, 'f_agg': 'mean'}, {'ql': 0.0, 'qh': 1.0, 'isabs': False, 'f_agg': 'var'}, {'ql': 0.0, 'qh': 1.0, 'isabs': True, 'f_agg': 'mean'}, {'ql': 0.0, 'qh': 1.0, 'isabs': True, 'f_agg': 'var'}, {'ql': 0.2, 'qh': 0.4, 'isabs': False, 'f_agg': 'mean'}, {'ql': 0.2, 'qh': 0.4, 'isabs': False, 'f_agg': 'var'}, {'ql': 0.2, 'qh': 0.4, 'isabs': True, 'f_agg': 'mean'}, {'ql': 0.2, 'qh': 0.4, 'isabs': True, 'f_agg': 'var'}, {'ql': 0.2, 'qh': 0.6, 'isabs': False, 'f_agg': 'mean'}, {'ql': 0.2, 'qh': 0.6, 'isabs': False, 'f_agg': 'var'}, {'ql': 0.2, 'qh': 0.6, 'isabs': True, 'f_agg': 'mean'}, {'ql': 0.2, 'qh': 0.6, 'isabs': True, 'f_agg': 'var'}, {'ql': 0.2, 'qh': 0.8, 'isabs': False, 'f_agg': 'mean'}, {'ql': 0.2, 'qh': 0.8, 'isabs': False, 'f_agg': 'var'}, {'ql': 0.2, 'qh': 0.8, 'isabs': True, 'f_agg': 'mean'}, {'ql': 0.2, 'qh': 0.8, 'isabs': True, 'f_agg': 'var'}, {'ql': 0.2, 'qh': 1.0, 'isabs': False, 'f_agg': 'mean'}, {'ql': 0.2, 'qh': 1.0, 'isabs': False, 'f_agg': 'var'}, {'ql': 0.2, 'qh': 1.0, 'isabs': True, 'f_agg': 'mean'}, {'ql': 0.2, 'qh': 1.0, 'isabs': True, 'f_agg': 'var'}, {'ql': 0.4, 'qh': 0.6, 'isabs': False, 'f_agg': 'mean'}, {'ql': 0.4, 'qh': 0.6, 'isabs': False, 'f_agg': 'var'}, {'ql': 0.4, 'qh': 0.6, 'isabs': True, 'f_agg': 'mean'}, {'ql': 0.4, 'qh': 0.6, 'isabs': True, 'f_agg': 'var'}, {'ql': 0.4, 'qh': 0.8, 'isabs': False, 'f_agg': 'mean'}, {'ql': 0.4, 'qh': 0.8, 'isabs': False, 'f_agg': 'var'}, {'ql': 0.4, 'qh': 0.8, 'isabs': True, 'f_agg': 'mean'}, {'ql': 0.4, 'qh': 0.8, 'isabs': True, 'f_agg': 'var'}, {'ql': 0.4, 'qh': 1.0, 'isabs': False, 'f_agg': 'mean'}, {'ql': 0.4, 'qh': 1.0, 'isabs': False, 'f_agg': 'var'}, {'ql': 0.4, 'qh': 1.0, 'isabs': True, 'f_agg': 'mean'}, {'ql': 0.4, 'qh': 1.0, 'isabs': True, 'f_agg': 'var'}, {'ql': 0.6, 'qh': 0.8, 'isabs': False, 'f_agg': 'mean'}, {'ql': 0.6, 'qh': 0.8, 'isabs': False, 'f_agg': 'var'}, {'ql': 0.6, 'qh': 0.8, 'isabs': True, 'f_agg': 'mean'}, {'ql': 0.6, 'qh': 0.8, 'isabs': True, 'f_agg': 'var'}, {'ql': 0.6, 'qh': 1.0, 'isabs': False, 'f_agg': 'mean'}, {'ql': 0.6, 'qh': 1.0, 'isabs': False, 'f_agg': 'var'}, {'ql': 0.6, 'qh': 1.0, 'isabs': True, 'f_agg': 'mean'}, {'ql': 0.6, 'qh': 1.0, 'isabs': True, 'f_agg': 'var'}, {'ql': 0.8, 'qh': 1.0, 'isabs': False, 'f_agg': 'mean'}, {'ql': 0.8, 'qh': 1.0, 'isabs': False, 'f_agg': 'var'}, {'ql': 0.8, 'qh': 1.0, 'isabs': True, 'f_agg': 'mean'}, {'ql': 0.8, 'qh': 1.0, 'isabs': True, 'f_agg': 'var'}], 'fft_coefficient': [{'coeff': 0, 'attr': 'real'}, {'coeff': 1, 'attr': 'real'}, {'coeff': 2, 'attr': 'real'}, {'coeff': 3, 'attr': 'real'}, {'coeff': 4, 'attr': 'real'}, {'coeff': 5, 'attr': 'real'}, {'coeff': 6, 'attr': 'real'}, {'coeff': 7, 'attr': 'real'}, {'coeff': 8, 'attr': 'real'}, {'coeff': 9, 'attr': 'real'}, {'coeff': 10, 'attr': 'real'}, {'coeff': 11, 'attr': 'real'}, {'coeff': 12, 'attr': 'real'}, {'coeff': 13, 'attr': 'real'}, {'coeff': 14, 'attr': 'real'}, {'coeff': 15, 'attr': 'real'}, {'coeff': 16, 'attr': 'real'}, {'coeff': 17, 'attr': 'real'}, {'coeff': 18, 'attr': 'real'}, {'coeff': 19, 'attr': 'real'}, {'coeff': 20, 'attr': 'real'}, {'coeff': 21, 'attr': 'real'}, {'coeff': 22, 'attr': 'real'}, {'coeff': 23, 'attr': 'real'}, {'coeff': 24, 'attr': 'real'}, {'coeff': 25, 'attr': 'real'}, {'coeff': 26, 'attr': 'real'}, {'coeff': 27, 'attr': 'real'}, {'coeff': 28, 'attr': 'real'}, {'coeff': 29, 'attr': 'real'}, {'coeff': 30, 'attr': 'real'}, {'coeff': 31, 'attr': 'real'}, {'coeff': 32, 'attr': 'real'}, {'coeff': 33, 'attr': 'real'}, {'coeff': 34, 'attr': 'real'}, {'coeff': 35, 'attr': 'real'}, {'coeff': 36, 'attr': 'real'}, {'coeff': 37, 'attr': 'real'}, {'coeff': 38, 'attr': 'real'}, {'coeff': 39, 'attr': 'real'}, {'coeff': 40, 'attr': 'real'}, {'coeff': 41, 'attr': 'real'}, {'coeff': 42, 'attr': 'real'}, {'coeff': 43, 'attr': 'real'}, {'coeff': 44, 'attr': 'real'}, {'coeff': 45, 'attr': 'real'}, {'coeff': 46, 'attr': 'real'}, {'coeff': 47, 'attr': 'real'}, {'coeff': 48, 'attr': 'real'}, {'coeff': 49, 'attr': 'real'}, {'coeff': 50, 'attr': 'real'}, {'coeff': 51, 'attr': 'real'}, {'coeff': 52, 'attr': 'real'}, {'coeff': 53, 'attr': 'real'}, {'coeff': 54, 'attr': 'real'}, {'coeff': 55, 'attr': 'real'}, {'coeff': 56, 'attr': 'real'}, {'coeff': 57, 'attr': 'real'}, {'coeff': 58, 'attr': 'real'}, {'coeff': 59, 'attr': 'real'}, {'coeff': 60, 'attr': 'real'}, {'coeff': 61, 'attr': 'real'}, {'coeff': 62, 'attr': 'real'}, {'coeff': 63, 'attr': 'real'}, {'coeff': 64, 'attr': 'real'}, {'coeff': 65, 'attr': 'real'}, {'coeff': 66, 'attr': 'real'}, {'coeff': 67, 'attr': 'real'}, {'coeff': 68, 'attr': 'real'}, {'coeff': 69, 'attr': 'real'}, {'coeff': 70, 'attr': 'real'}, {'coeff': 71, 'attr': 'real'}, {'coeff': 72, 'attr': 'real'}, {'coeff': 73, 'attr': 'real'}, {'coeff': 74, 'attr': 'real'}, {'coeff': 75, 'attr': 'real'}, {'coeff': 76, 'attr': 'real'}, {'coeff': 77, 'attr': 'real'}, {'coeff': 78, 'attr': 'real'}, {'coeff': 79, 'attr': 'real'}, {'coeff': 80, 'attr': 'real'}, {'coeff': 81, 'attr': 'real'}, {'coeff': 82, 'attr': 'real'}, {'coeff': 83, 'attr': 'real'}, {'coeff': 84, 'attr': 'real'}, {'coeff': 85, 'attr': 'real'}, {'coeff': 86, 'attr': 'real'}, {'coeff': 87, 'attr': 'real'}, {'coeff': 88, 'attr': 'real'}, {'coeff': 89, 'attr': 'real'}, {'coeff': 90, 'attr': 'real'}, {'coeff': 91, 'attr': 'real'}, {'coeff': 92, 'attr': 'real'}, {'coeff': 93, 'attr': 'real'}, {'coeff': 94, 'attr': 'real'}, {'coeff': 95, 'attr': 'real'}, {'coeff': 96, 'attr': 'real'}, {'coeff': 97, 'attr': 'real'}, {'coeff': 98, 'attr': 'real'}, {'coeff': 99, 'attr': 'real'}, {'coeff': 0, 'attr': 'imag'}, {'coeff': 1, 'attr': 'imag'}, {'coeff': 2, 'attr': 'imag'}, {'coeff': 3, 'attr': 'imag'}, {'coeff': 4, 'attr': 'imag'}, {'coeff': 5, 'attr': 'imag'}, {'coeff': 6, 'attr': 'imag'}, {'coeff': 7, 'attr': 'imag'}, {'coeff': 8, 'attr': 'imag'}, {'coeff': 9, 'attr': 'imag'}, {'coeff': 10, 'attr': 'imag'}, {'coeff': 11, 'attr': 'imag'}, {'coeff': 12, 'attr': 'imag'}, {'coeff': 13, 'attr': 'imag'}, {'coeff': 14, 'attr': 'imag'}, {'coeff': 15, 'attr': 'imag'}, {'coeff': 16, 'attr': 'imag'}, {'coeff': 17, 'attr': 'imag'}, {'coeff': 18, 'attr': 'imag'}, {'coeff': 19, 'attr': 'imag'}, {'coeff': 20, 'attr': 'imag'}, {'coeff': 21, 'attr': 'imag'}, {'coeff': 22, 'attr': 'imag'}, {'coeff': 23, 'attr': 'imag'}, {'coeff': 24, 'attr': 'imag'}, {'coeff': 25, 'attr': 'imag'}, {'coeff': 26, 'attr': 'imag'}, {'coeff': 27, 'attr': 'imag'}, {'coeff': 28, 'attr': 'imag'}, {'coeff': 29, 'attr': 'imag'}, {'coeff': 30, 'attr': 'imag'}, {'coeff': 31, 'attr': 'imag'}, {'coeff': 32, 'attr': 'imag'}, {'coeff': 33, 'attr': 'imag'}, {'coeff': 34, 'attr': 'imag'}, {'coeff': 35, 'attr': 'imag'}, {'coeff': 36, 'attr': 'imag'}, {'coeff': 37, 'attr': 'imag'}, {'coeff': 38, 'attr': 'imag'}, {'coeff': 39, 'attr': 'imag'}, {'coeff': 40, 'attr': 'imag'}, {'coeff': 41, 'attr': 'imag'}, {'coeff': 42, 'attr': 'imag'}, {'coeff': 43, 'attr': 'imag'}, {'coeff': 44, 'attr': 'imag'}, {'coeff': 45, 'attr': 'imag'}, {'coeff': 46, 'attr': 'imag'}, {'coeff': 47, 'attr': 'imag'}, {'coeff': 48, 'attr': 'imag'}, {'coeff': 49, 'attr': 'imag'}, {'coeff': 50, 'attr': 'imag'}, {'coeff': 51, 'attr': 'imag'}, {'coeff': 52, 'attr': 'imag'}, {'coeff': 53, 'attr': 'imag'}, {'coeff': 54, 'attr': 'imag'}, {'coeff': 55, 'attr': 'imag'}, {'coeff': 56, 'attr': 'imag'}, {'coeff': 57, 'attr': 'imag'}, {'coeff': 58, 'attr': 'imag'}, {'coeff': 59, 'attr': 'imag'}, {'coeff': 60, 'attr': 'imag'}, {'coeff': 61, 'attr': 'imag'}, {'coeff': 62, 'attr': 'imag'}, {'coeff': 63, 'attr': 'imag'}, {'coeff': 64, 'attr': 'imag'}, {'coeff': 65, 'attr': 'imag'}, {'coeff': 66, 'attr': 'imag'}, {'coeff': 67, 'attr': 'imag'}, {'coeff': 68, 'attr': 'imag'}, {'coeff': 69, 'attr': 'imag'}, {'coeff': 70, 'attr': 'imag'}, {'coeff': 71, 'attr': 'imag'}, {'coeff': 72, 'attr': 'imag'}, {'coeff': 73, 'attr': 'imag'}, {'coeff': 74, 'attr': 'imag'}, {'coeff': 75, 'attr': 'imag'}, {'coeff': 76, 'attr': 'imag'}, {'coeff': 77, 'attr': 'imag'}, {'coeff': 78, 'attr': 'imag'}, {'coeff': 79, 'attr': 'imag'}, {'coeff': 80, 'attr': 'imag'}, {'coeff': 81, 'attr': 'imag'}, {'coeff': 82, 'attr': 'imag'}, {'coeff': 83, 'attr': 'imag'}, {'coeff': 84, 'attr': 'imag'}, {'coeff': 85, 'attr': 'imag'}, {'coeff': 86, 'attr': 'imag'}, {'coeff': 87, 'attr': 'imag'}, {'coeff': 88, 'attr': 'imag'}, {'coeff': 89, 'attr': 'imag'}, {'coeff': 90, 'attr': 'imag'}, {'coeff': 91, 'attr': 'imag'}, {'coeff': 92, 'attr': 'imag'}, {'coeff': 93, 'attr': 'imag'}, {'coeff': 94, 'attr': 'imag'}, {'coeff': 95, 'attr': 'imag'}, {'coeff': 96, 'attr': 'imag'}, {'coeff': 97, 'attr': 'imag'}, {'coeff': 98, 'attr': 'imag'}, {'coeff': 99, 'attr': 'imag'}, {'coeff': 0, 'attr': 'abs'}, {'coeff': 1, 'attr': 'abs'}, {'coeff': 2, 'attr': 'abs'}, {'coeff': 3, 'attr': 'abs'}, {'coeff': 4, 'attr': 'abs'}, {'coeff': 5, 'attr': 'abs'}, {'coeff': 6, 'attr': 'abs'}, {'coeff': 7, 'attr': 'abs'}, {'coeff': 8, 'attr': 'abs'}, {'coeff': 9, 'attr': 'abs'}, {'coeff': 10, 'attr': 'abs'}, {'coeff': 11, 'attr': 'abs'}, {'coeff': 12, 'attr': 'abs'}, {'coeff': 13, 'attr': 'abs'}, {'coeff': 14, 'attr': 'abs'}, {'coeff': 15, 'attr': 'abs'}, {'coeff': 16, 'attr': 'abs'}, {'coeff': 17, 'attr': 'abs'}, {'coeff': 18, 'attr': 'abs'}, {'coeff': 19, 'attr': 'abs'}, {'coeff': 20, 'attr': 'abs'}, {'coeff': 21, 'attr': 'abs'}, {'coeff': 22, 'attr': 'abs'}, {'coeff': 23, 'attr': 'abs'}, {'coeff': 24, 'attr': 'abs'}, {'coeff': 25, 'attr': 'abs'}, {'coeff': 26, 'attr': 'abs'}, {'coeff': 27, 'attr': 'abs'}, {'coeff': 28, 'attr': 'abs'}, {'coeff': 29, 'attr': 'abs'}, {'coeff': 30, 'attr': 'abs'}, {'coeff': 31, 'attr': 'abs'}, {'coeff': 32, 'attr': 'abs'}, {'coeff': 33, 'attr': 'abs'}, {'coeff': 34, 'attr': 'abs'}, {'coeff': 35, 'attr': 'abs'}, {'coeff': 36, 'attr': 'abs'}, {'coeff': 37, 'attr': 'abs'}, {'coeff': 38, 'attr': 'abs'}, {'coeff': 39, 'attr': 'abs'}, {'coeff': 40, 'attr': 'abs'}, {'coeff': 41, 'attr': 'abs'}, {'coeff': 42, 'attr': 'abs'}, {'coeff': 43, 'attr': 'abs'}, {'coeff': 44, 'attr': 'abs'}, {'coeff': 45, 'attr': 'abs'}, {'coeff': 46, 'attr': 'abs'}, {'coeff': 47, 'attr': 'abs'}, {'coeff': 48, 'attr': 'abs'}, {'coeff': 49, 'attr': 'abs'}, {'coeff': 50, 'attr': 'abs'}, {'coeff': 51, 'attr': 'abs'}, {'coeff': 52, 'attr': 'abs'}, {'coeff': 53, 'attr': 'abs'}, {'coeff': 54, 'attr': 'abs'}, {'coeff': 55, 'attr': 'abs'}, {'coeff': 56, 'attr': 'abs'}, {'coeff': 57, 'attr': 'abs'}, {'coeff': 58, 'attr': 'abs'}, {'coeff': 59, 'attr': 'abs'}, {'coeff': 60, 'attr': 'abs'}, {'coeff': 61, 'attr': 'abs'}, {'coeff': 62, 'attr': 'abs'}, {'coeff': 63, 'attr': 'abs'}, {'coeff': 64, 'attr': 'abs'}, {'coeff': 65, 'attr': 'abs'}, {'coeff': 66, 'attr': 'abs'}, {'coeff': 67, 'attr': 'abs'}, {'coeff': 68, 'attr': 'abs'}, {'coeff': 69, 'attr': 'abs'}, {'coeff': 70, 'attr': 'abs'}, {'coeff': 71, 'attr': 'abs'}, {'coeff': 72, 'attr': 'abs'}, {'coeff': 73, 'attr': 'abs'}, {'coeff': 74, 'attr': 'abs'}, {'coeff': 75, 'attr': 'abs'}, {'coeff': 76, 'attr': 'abs'}, {'coeff': 77, 'attr': 'abs'}, {'coeff': 78, 'attr': 'abs'}, {'coeff': 79, 'attr': 'abs'}, {'coeff': 80, 'attr': 'abs'}, {'coeff': 81, 'attr': 'abs'}, {'coeff': 82, 'attr': 'abs'}, {'coeff': 83, 'attr': 'abs'}, {'coeff': 84, 'attr': 'abs'}, {'coeff': 85, 'attr': 'abs'}, {'coeff': 86, 'attr': 'abs'}, {'coeff': 87, 'attr': 'abs'}, {'coeff': 88, 'attr': 'abs'}, {'coeff': 89, 'attr': 'abs'}, {'coeff': 90, 'attr': 'abs'}, {'coeff': 91, 'attr': 'abs'}, {'coeff': 92, 'attr': 'abs'}, {'coeff': 93, 'attr': 'abs'}, {'coeff': 94, 'attr': 'abs'}, {'coeff': 95, 'attr': 'abs'}, {'coeff': 96, 'attr': 'abs'}, {'coeff': 97, 'attr': 'abs'}, {'coeff': 98, 'attr': 'abs'}, {'coeff': 99, 'attr': 'abs'}, {'coeff': 0, 'attr': 'angle'}, {'coeff': 1, 'attr': 'angle'}, {'coeff': 2, 'attr': 'angle'}, {'coeff': 3, 'attr': 'angle'}, {'coeff': 4, 'attr': 'angle'}, {'coeff': 5, 'attr': 'angle'}, {'coeff': 6, 'attr': 'angle'}, {'coeff': 7, 'attr': 'angle'}, {'coeff': 8, 'attr': 'angle'}, {'coeff': 9, 'attr': 'angle'}, {'coeff': 10, 'attr': 'angle'}, {'coeff': 11, 'attr': 'angle'}, {'coeff': 12, 'attr': 'angle'}, {'coeff': 13, 'attr': 'angle'}, {'coeff': 14, 'attr': 'angle'}, {'coeff': 15, 'attr': 'angle'}, {'coeff': 16, 'attr': 'angle'}, {'coeff': 17, 'attr': 'angle'}, {'coeff': 18, 'attr': 'angle'}, {'coeff': 19, 'attr': 'angle'}, {'coeff': 20, 'attr': 'angle'}, {'coeff': 21, 'attr': 'angle'}, {'coeff': 22, 'attr': 'angle'}, {'coeff': 23, 'attr': 'angle'}, {'coeff': 24, 'attr': 'angle'}, {'coeff': 25, 'attr': 'angle'}, {'coeff': 26, 'attr': 'angle'}, {'coeff': 27, 'attr': 'angle'}, {'coeff': 28, 'attr': 'angle'}, {'coeff': 29, 'attr': 'angle'}, {'coeff': 30, 'attr': 'angle'}, {'coeff': 31, 'attr': 'angle'}, {'coeff': 32, 'attr': 'angle'}, {'coeff': 33, 'attr': 'angle'}, {'coeff': 34, 'attr': 'angle'}, {'coeff': 35, 'attr': 'angle'}, {'coeff': 36, 'attr': 'angle'}, {'coeff': 37, 'attr': 'angle'}, {'coeff': 38, 'attr': 'angle'}, {'coeff': 39, 'attr': 'angle'}, {'coeff': 40, 'attr': 'angle'}, {'coeff': 41, 'attr': 'angle'}, {'coeff': 42, 'attr': 'angle'}, {'coeff': 43, 'attr': 'angle'}, {'coeff': 44, 'attr': 'angle'}, {'coeff': 45, 'attr': 'angle'}, {'coeff': 46, 'attr': 'angle'}, {'coeff': 47, 'attr': 'angle'}, {'coeff': 48, 'attr': 'angle'}, {'coeff': 49, 'attr': 'angle'}, {'coeff': 50, 'attr': 'angle'}, {'coeff': 51, 'attr': 'angle'}, {'coeff': 52, 'attr': 'angle'}, {'coeff': 53, 'attr': 'angle'}, {'coeff': 54, 'attr': 'angle'}, {'coeff': 55, 'attr': 'angle'}, {'coeff': 56, 'attr': 'angle'}, {'coeff': 57, 'attr': 'angle'}, {'coeff': 58, 'attr': 'angle'}, {'coeff': 59, 'attr': 'angle'}, {'coeff': 60, 'attr': 'angle'}, {'coeff': 61, 'attr': 'angle'}, {'coeff': 62, 'attr': 'angle'}, {'coeff': 63, 'attr': 'angle'}, {'coeff': 64, 'attr': 'angle'}, {'coeff': 65, 'attr': 'angle'}, {'coeff': 66, 'attr': 'angle'}, {'coeff': 67, 'attr': 'angle'}, {'coeff': 68, 'attr': 'angle'}, {'coeff': 69, 'attr': 'angle'}, {'coeff': 70, 'attr': 'angle'}, {'coeff': 71, 'attr': 'angle'}, {'coeff': 72, 'attr': 'angle'}, {'coeff': 73, 'attr': 'angle'}, {'coeff': 74, 'attr': 'angle'}, {'coeff': 75, 'attr': 'angle'}, {'coeff': 76, 'attr': 'angle'}, {'coeff': 77, 'attr': 'angle'}, {'coeff': 78, 'attr': 'angle'}, {'coeff': 79, 'attr': 'angle'}, {'coeff': 80, 'attr': 'angle'}, {'coeff': 81, 'attr': 'angle'}, {'coeff': 82, 'attr': 'angle'}, {'coeff': 83, 'attr': 'angle'}, {'coeff': 84, 'attr': 'angle'}, {'coeff': 85, 'attr': 'angle'}, {'coeff': 86, 'attr': 'angle'}, {'coeff': 87, 'attr': 'angle'}, {'coeff': 88, 'attr': 'angle'}, {'coeff': 89, 'attr': 'angle'}, {'coeff': 90, 'attr': 'angle'}, {'coeff': 91, 'attr': 'angle'}, {'coeff': 92, 'attr': 'angle'}, {'coeff': 93, 'attr': 'angle'}, {'coeff': 94, 'attr': 'angle'}, {'coeff': 95, 'attr': 'angle'}, {'coeff': 96, 'attr': 'angle'}, {'coeff': 97, 'attr': 'angle'}, {'coeff': 98, 'attr': 'angle'}, {'coeff': 99, 'attr': 'angle'}], 'fft_aggregated': [{'aggtype': 'centroid'}, {'aggtype': 'variance'}, {'aggtype': 'skew'}, {'aggtype': 'kurtosis'}], 'value_count': [{'value': 0}, {'value': 1}, {'value': -1}], 'range_count': [{'min': -1, 'max': 1}, {'min': -1000000000000.0, 'max': 0}, {'min': 0, 'max': 1000000000000.0}], 'friedrich_coefficients': [{'coeff': 0, 'm': 3, 'r': 30}, {'coeff': 1, 'm': 3, 'r': 30}, {'coeff': 2, 'm': 3, 'r': 30}, {'coeff': 3, 'm': 3, 'r': 30}], 'max_langevin_fixed_point': [{'m': 3, 'r': 30}], 'linear_trend': [{'attr': 'pvalue'}, {'attr': 'rvalue'}, {'attr': 'intercept'}, {'attr': 'slope'}, {'attr': 'stderr'}], 'agg_linear_trend': [{'attr': 'rvalue', 'chunk_len': 5, 'f_agg': 'max'}, {'attr': 'rvalue', 'chunk_len': 5, 'f_agg': 'min'}, {'attr': 'rvalue', 'chunk_len': 5, 'f_agg': 'mean'}, {'attr': 'rvalue', 'chunk_len': 5, 'f_agg': 'var'}, {'attr': 'rvalue', 'chunk_len': 10, 'f_agg': 'max'}, {'attr': 'rvalue', 'chunk_len': 10, 'f_agg': 'min'}, {'attr': 'rvalue', 'chunk_len': 10, 'f_agg': 'mean'}, {'attr': 'rvalue', 'chunk_len': 10, 'f_agg': 'var'}, {'attr': 'rvalue', 'chunk_len': 50, 'f_agg': 'max'}, {'attr': 'rvalue', 'chunk_len': 50, 'f_agg': 'min'}, {'attr': 'rvalue', 'chunk_len': 50, 'f_agg': 'mean'}, {'attr': 'rvalue', 'chunk_len': 50, 'f_agg': 'var'}, {'attr': 'intercept', 'chunk_len': 5, 'f_agg': 'max'}, {'attr': 'intercept', 'chunk_len': 5, 'f_agg': 'min'}, {'attr': 'intercept', 'chunk_len': 5, 'f_agg': 'mean'}, {'attr': 'intercept', 'chunk_len': 5, 'f_agg': 'var'}, {'attr': 'intercept', 'chunk_len': 10, 'f_agg': 'max'}, {'attr': 'intercept', 'chunk_len': 10, 'f_agg': 'min'}, {'attr': 'intercept', 'chunk_len': 10, 'f_agg': 'mean'}, {'attr': 'intercept', 'chunk_len': 10, 'f_agg': 'var'}, {'attr': 'intercept', 'chunk_len': 50, 'f_agg': 'max'}, {'attr': 'intercept', 'chunk_len': 50, 'f_agg': 'min'}, {'attr': 'intercept', 'chunk_len': 50, 'f_agg': 'mean'}, {'attr': 'intercept', 'chunk_len': 50, 'f_agg': 'var'}, {'attr': 'slope', 'chunk_len': 5, 'f_agg': 'max'}, {'attr': 'slope', 'chunk_len': 5, 'f_agg': 'min'}, {'attr': 'slope', 'chunk_len': 5, 'f_agg': 'mean'}, {'attr': 'slope', 'chunk_len': 5, 'f_agg': 'var'}, {'attr': 'slope', 'chunk_len': 10, 'f_agg': 'max'}, {'attr': 'slope', 'chunk_len': 10, 'f_agg': 'min'}, {'attr': 'slope', 'chunk_len': 10, 'f_agg': 'mean'}, {'attr': 'slope', 'chunk_len': 10, 'f_agg': 'var'}, {'attr': 'slope', 'chunk_len': 50, 'f_agg': 'max'}, {'attr': 'slope', 'chunk_len': 50, 'f_agg': 'min'}, {'attr': 'slope', 'chunk_len': 50, 'f_agg': 'mean'}, {'attr': 'slope', 'chunk_len': 50, 'f_agg': 'var'}, {'attr': 'stderr', 'chunk_len': 5, 'f_agg': 'max'}, {'attr': 'stderr', 'chunk_len': 5, 'f_agg': 'min'}, {'attr': 'stderr', 'chunk_len': 5, 'f_agg': 'mean'}, {'attr': 'stderr', 'chunk_len': 5, 'f_agg': 'var'}, {'attr': 'stderr', 'chunk_len': 10, 'f_agg': 'max'}, {'attr': 'stderr', 'chunk_len': 10, 'f_agg': 'min'}, {'attr': 'stderr', 'chunk_len': 10, 'f_agg': 'mean'}, {'attr': 'stderr', 'chunk_len': 10, 'f_agg': 'var'}, {'attr': 'stderr', 'chunk_len': 50, 'f_agg': 'max'}, {'attr': 'stderr', 'chunk_len': 50, 'f_agg': 'min'}, {'attr': 'stderr', 'chunk_len': 50, 'f_agg': 'mean'}, {'attr': 'stderr', 'chunk_len': 50, 'f_agg': 'var'}], 'augmented_dickey_fuller': [{'attr': 'teststat'}, {'attr': 'pvalue'}, {'attr': 'usedlag'}], 'number_crossing_m': [{'m': 0}, {'m': -1}, {'m': 1}], 'energy_ratio_by_chunks': [{'num_segments': 10, 'segment_focus': 0}, {'num_segments': 10, 'segment_focus': 1}, {'num_segments': 10, 'segment_focus': 2}, {'num_segments': 10, 'segment_focus': 3}, {'num_segments': 10, 'segment_focus': 4}, {'num_segments': 10, 'segment_focus': 5}, {'num_segments': 10, 'segment_focus': 6}, {'num_segments': 10, 'segment_focus': 7}, {'num_segments': 10, 'segment_focus': 8}, {'num_segments': 10, 'segment_focus': 9}], 'ratio_beyond_r_sigma': [{'r': 0.5}, {'r': 1}, {'r': 1.5}, {'r': 2}, {'r': 2.5}, {'r': 3}, {'r': 5}, {'r': 6}, {'r': 7}, {'r': 10}], 'linear_trend_timewise': [{'attr': 'pvalue'}, {'attr': 'rvalue'}, {'attr': 'intercept'}, {'attr': 'slope'}, {'attr': 'stderr'}], 'count_above': [{'t': 0}], 'count_below': [{'t': 0}], 'lempel_ziv_complexity': [{'bins': 2}, {'bins': 3}, {'bins': 5}, {'bins': 10}, {'bins': 100}], 'fourier_entropy': [{'bins': 2}, {'bins': 3}, {'bins': 5}, {'bins': 10}, {'bins': 100}], 'permutation_entropy': [{'tau': 1, 'dimension': 3}, {'tau': 1, 'dimension': 4}, {'tau': 1, 'dimension': 5}, {'tau': 1, 'dimension': 6}, {'tau': 1, 'dimension': 7}], 'query_similarity_count': [{'query': None, 'threshold': 0.0}], 'mean_n_absolute_max': [{'number_of_maxima': 7}]}"
     },
     "execution_count": 8,
     "metadata": {},
     "output_type": "execute_result"
    }
   ],
   "source": [
    "settings_efficient = settings.EfficientFCParameters()\n",
    "print(f'N_features: {len(settings_efficient)}')\n",
    "settings_efficient"
   ],
   "metadata": {
    "collapsed": false,
    "ExecuteTime": {
     "end_time": "2024-04-14T14:07:41.512208Z",
     "start_time": "2024-04-14T14:07:41.509419Z"
    }
   },
   "id": "e5b535648fa11e60",
   "execution_count": 8
  },
  {
   "cell_type": "code",
   "outputs": [
    {
     "name": "stdout",
     "output_type": "stream",
     "text": [
      "N_features: 75\n"
     ]
    },
    {
     "data": {
      "text/plain": "{'variance_larger_than_standard_deviation': None, 'has_duplicate_max': None, 'has_duplicate_min': None, 'has_duplicate': None, 'sum_values': None, 'abs_energy': None, 'mean_abs_change': None, 'mean_change': None, 'mean_second_derivative_central': None, 'median': None, 'mean': None, 'length': None, 'standard_deviation': None, 'variation_coefficient': None, 'variance': None, 'skewness': None, 'kurtosis': None, 'root_mean_square': None, 'absolute_sum_of_changes': None, 'longest_strike_below_mean': None, 'longest_strike_above_mean': None, 'count_above_mean': None, 'count_below_mean': None, 'last_location_of_maximum': None, 'first_location_of_maximum': None, 'last_location_of_minimum': None, 'first_location_of_minimum': None, 'percentage_of_reoccurring_values_to_all_values': None, 'percentage_of_reoccurring_datapoints_to_all_datapoints': None, 'sum_of_reoccurring_values': None, 'sum_of_reoccurring_data_points': None, 'ratio_value_number_to_time_series_length': None, 'sample_entropy': None, 'maximum': None, 'absolute_maximum': None, 'minimum': None, 'benford_correlation': None, 'time_reversal_asymmetry_statistic': [{'lag': 1}, {'lag': 2}, {'lag': 3}], 'c3': [{'lag': 1}, {'lag': 2}, {'lag': 3}], 'cid_ce': [{'normalize': True}, {'normalize': False}], 'symmetry_looking': [{'r': 0.0}, {'r': 0.05}, {'r': 0.1}, {'r': 0.15000000000000002}, {'r': 0.2}, {'r': 0.25}, {'r': 0.30000000000000004}, {'r': 0.35000000000000003}, {'r': 0.4}, {'r': 0.45}, {'r': 0.5}, {'r': 0.55}, {'r': 0.6000000000000001}, {'r': 0.65}, {'r': 0.7000000000000001}, {'r': 0.75}, {'r': 0.8}, {'r': 0.8500000000000001}, {'r': 0.9}, {'r': 0.9500000000000001}], 'large_standard_deviation': [{'r': 0.05}, {'r': 0.1}, {'r': 0.15000000000000002}, {'r': 0.2}, {'r': 0.25}, {'r': 0.30000000000000004}, {'r': 0.35000000000000003}, {'r': 0.4}, {'r': 0.45}, {'r': 0.5}, {'r': 0.55}, {'r': 0.6000000000000001}, {'r': 0.65}, {'r': 0.7000000000000001}, {'r': 0.75}, {'r': 0.8}, {'r': 0.8500000000000001}, {'r': 0.9}, {'r': 0.9500000000000001}], 'quantile': [{'q': 0.1}, {'q': 0.2}, {'q': 0.3}, {'q': 0.4}, {'q': 0.6}, {'q': 0.7}, {'q': 0.8}, {'q': 0.9}], 'autocorrelation': [{'lag': 0}, {'lag': 1}, {'lag': 2}, {'lag': 3}, {'lag': 4}, {'lag': 5}, {'lag': 6}, {'lag': 7}, {'lag': 8}, {'lag': 9}], 'agg_autocorrelation': [{'f_agg': 'mean', 'maxlag': 40}, {'f_agg': 'median', 'maxlag': 40}, {'f_agg': 'var', 'maxlag': 40}], 'partial_autocorrelation': [{'lag': 0}, {'lag': 1}, {'lag': 2}, {'lag': 3}, {'lag': 4}, {'lag': 5}, {'lag': 6}, {'lag': 7}, {'lag': 8}, {'lag': 9}], 'number_cwt_peaks': [{'n': 1}, {'n': 5}], 'number_peaks': [{'n': 1}, {'n': 3}, {'n': 5}, {'n': 10}, {'n': 50}], 'binned_entropy': [{'max_bins': 10}], 'index_mass_quantile': [{'q': 0.1}, {'q': 0.2}, {'q': 0.3}, {'q': 0.4}, {'q': 0.6}, {'q': 0.7}, {'q': 0.8}, {'q': 0.9}], 'cwt_coefficients': [{'widths': (2, 5, 10, 20), 'coeff': 0, 'w': 2}, {'widths': (2, 5, 10, 20), 'coeff': 0, 'w': 5}, {'widths': (2, 5, 10, 20), 'coeff': 0, 'w': 10}, {'widths': (2, 5, 10, 20), 'coeff': 0, 'w': 20}, {'widths': (2, 5, 10, 20), 'coeff': 1, 'w': 2}, {'widths': (2, 5, 10, 20), 'coeff': 1, 'w': 5}, {'widths': (2, 5, 10, 20), 'coeff': 1, 'w': 10}, {'widths': (2, 5, 10, 20), 'coeff': 1, 'w': 20}, {'widths': (2, 5, 10, 20), 'coeff': 2, 'w': 2}, {'widths': (2, 5, 10, 20), 'coeff': 2, 'w': 5}, {'widths': (2, 5, 10, 20), 'coeff': 2, 'w': 10}, {'widths': (2, 5, 10, 20), 'coeff': 2, 'w': 20}, {'widths': (2, 5, 10, 20), 'coeff': 3, 'w': 2}, {'widths': (2, 5, 10, 20), 'coeff': 3, 'w': 5}, {'widths': (2, 5, 10, 20), 'coeff': 3, 'w': 10}, {'widths': (2, 5, 10, 20), 'coeff': 3, 'w': 20}, {'widths': (2, 5, 10, 20), 'coeff': 4, 'w': 2}, {'widths': (2, 5, 10, 20), 'coeff': 4, 'w': 5}, {'widths': (2, 5, 10, 20), 'coeff': 4, 'w': 10}, {'widths': (2, 5, 10, 20), 'coeff': 4, 'w': 20}, {'widths': (2, 5, 10, 20), 'coeff': 5, 'w': 2}, {'widths': (2, 5, 10, 20), 'coeff': 5, 'w': 5}, {'widths': (2, 5, 10, 20), 'coeff': 5, 'w': 10}, {'widths': (2, 5, 10, 20), 'coeff': 5, 'w': 20}, {'widths': (2, 5, 10, 20), 'coeff': 6, 'w': 2}, {'widths': (2, 5, 10, 20), 'coeff': 6, 'w': 5}, {'widths': (2, 5, 10, 20), 'coeff': 6, 'w': 10}, {'widths': (2, 5, 10, 20), 'coeff': 6, 'w': 20}, {'widths': (2, 5, 10, 20), 'coeff': 7, 'w': 2}, {'widths': (2, 5, 10, 20), 'coeff': 7, 'w': 5}, {'widths': (2, 5, 10, 20), 'coeff': 7, 'w': 10}, {'widths': (2, 5, 10, 20), 'coeff': 7, 'w': 20}, {'widths': (2, 5, 10, 20), 'coeff': 8, 'w': 2}, {'widths': (2, 5, 10, 20), 'coeff': 8, 'w': 5}, {'widths': (2, 5, 10, 20), 'coeff': 8, 'w': 10}, {'widths': (2, 5, 10, 20), 'coeff': 8, 'w': 20}, {'widths': (2, 5, 10, 20), 'coeff': 9, 'w': 2}, {'widths': (2, 5, 10, 20), 'coeff': 9, 'w': 5}, {'widths': (2, 5, 10, 20), 'coeff': 9, 'w': 10}, {'widths': (2, 5, 10, 20), 'coeff': 9, 'w': 20}, {'widths': (2, 5, 10, 20), 'coeff': 10, 'w': 2}, {'widths': (2, 5, 10, 20), 'coeff': 10, 'w': 5}, {'widths': (2, 5, 10, 20), 'coeff': 10, 'w': 10}, {'widths': (2, 5, 10, 20), 'coeff': 10, 'w': 20}, {'widths': (2, 5, 10, 20), 'coeff': 11, 'w': 2}, {'widths': (2, 5, 10, 20), 'coeff': 11, 'w': 5}, {'widths': (2, 5, 10, 20), 'coeff': 11, 'w': 10}, {'widths': (2, 5, 10, 20), 'coeff': 11, 'w': 20}, {'widths': (2, 5, 10, 20), 'coeff': 12, 'w': 2}, {'widths': (2, 5, 10, 20), 'coeff': 12, 'w': 5}, {'widths': (2, 5, 10, 20), 'coeff': 12, 'w': 10}, {'widths': (2, 5, 10, 20), 'coeff': 12, 'w': 20}, {'widths': (2, 5, 10, 20), 'coeff': 13, 'w': 2}, {'widths': (2, 5, 10, 20), 'coeff': 13, 'w': 5}, {'widths': (2, 5, 10, 20), 'coeff': 13, 'w': 10}, {'widths': (2, 5, 10, 20), 'coeff': 13, 'w': 20}, {'widths': (2, 5, 10, 20), 'coeff': 14, 'w': 2}, {'widths': (2, 5, 10, 20), 'coeff': 14, 'w': 5}, {'widths': (2, 5, 10, 20), 'coeff': 14, 'w': 10}, {'widths': (2, 5, 10, 20), 'coeff': 14, 'w': 20}], 'spkt_welch_density': [{'coeff': 2}, {'coeff': 5}, {'coeff': 8}], 'ar_coefficient': [{'coeff': 0, 'k': 10}, {'coeff': 1, 'k': 10}, {'coeff': 2, 'k': 10}, {'coeff': 3, 'k': 10}, {'coeff': 4, 'k': 10}, {'coeff': 5, 'k': 10}, {'coeff': 6, 'k': 10}, {'coeff': 7, 'k': 10}, {'coeff': 8, 'k': 10}, {'coeff': 9, 'k': 10}, {'coeff': 10, 'k': 10}], 'change_quantiles': [{'ql': 0.0, 'qh': 0.2, 'isabs': False, 'f_agg': 'mean'}, {'ql': 0.0, 'qh': 0.2, 'isabs': False, 'f_agg': 'var'}, {'ql': 0.0, 'qh': 0.2, 'isabs': True, 'f_agg': 'mean'}, {'ql': 0.0, 'qh': 0.2, 'isabs': True, 'f_agg': 'var'}, {'ql': 0.0, 'qh': 0.4, 'isabs': False, 'f_agg': 'mean'}, {'ql': 0.0, 'qh': 0.4, 'isabs': False, 'f_agg': 'var'}, {'ql': 0.0, 'qh': 0.4, 'isabs': True, 'f_agg': 'mean'}, {'ql': 0.0, 'qh': 0.4, 'isabs': True, 'f_agg': 'var'}, {'ql': 0.0, 'qh': 0.6, 'isabs': False, 'f_agg': 'mean'}, {'ql': 0.0, 'qh': 0.6, 'isabs': False, 'f_agg': 'var'}, {'ql': 0.0, 'qh': 0.6, 'isabs': True, 'f_agg': 'mean'}, {'ql': 0.0, 'qh': 0.6, 'isabs': True, 'f_agg': 'var'}, {'ql': 0.0, 'qh': 0.8, 'isabs': False, 'f_agg': 'mean'}, {'ql': 0.0, 'qh': 0.8, 'isabs': False, 'f_agg': 'var'}, {'ql': 0.0, 'qh': 0.8, 'isabs': True, 'f_agg': 'mean'}, {'ql': 0.0, 'qh': 0.8, 'isabs': True, 'f_agg': 'var'}, {'ql': 0.0, 'qh': 1.0, 'isabs': False, 'f_agg': 'mean'}, {'ql': 0.0, 'qh': 1.0, 'isabs': False, 'f_agg': 'var'}, {'ql': 0.0, 'qh': 1.0, 'isabs': True, 'f_agg': 'mean'}, {'ql': 0.0, 'qh': 1.0, 'isabs': True, 'f_agg': 'var'}, {'ql': 0.2, 'qh': 0.4, 'isabs': False, 'f_agg': 'mean'}, {'ql': 0.2, 'qh': 0.4, 'isabs': False, 'f_agg': 'var'}, {'ql': 0.2, 'qh': 0.4, 'isabs': True, 'f_agg': 'mean'}, {'ql': 0.2, 'qh': 0.4, 'isabs': True, 'f_agg': 'var'}, {'ql': 0.2, 'qh': 0.6, 'isabs': False, 'f_agg': 'mean'}, {'ql': 0.2, 'qh': 0.6, 'isabs': False, 'f_agg': 'var'}, {'ql': 0.2, 'qh': 0.6, 'isabs': True, 'f_agg': 'mean'}, {'ql': 0.2, 'qh': 0.6, 'isabs': True, 'f_agg': 'var'}, {'ql': 0.2, 'qh': 0.8, 'isabs': False, 'f_agg': 'mean'}, {'ql': 0.2, 'qh': 0.8, 'isabs': False, 'f_agg': 'var'}, {'ql': 0.2, 'qh': 0.8, 'isabs': True, 'f_agg': 'mean'}, {'ql': 0.2, 'qh': 0.8, 'isabs': True, 'f_agg': 'var'}, {'ql': 0.2, 'qh': 1.0, 'isabs': False, 'f_agg': 'mean'}, {'ql': 0.2, 'qh': 1.0, 'isabs': False, 'f_agg': 'var'}, {'ql': 0.2, 'qh': 1.0, 'isabs': True, 'f_agg': 'mean'}, {'ql': 0.2, 'qh': 1.0, 'isabs': True, 'f_agg': 'var'}, {'ql': 0.4, 'qh': 0.6, 'isabs': False, 'f_agg': 'mean'}, {'ql': 0.4, 'qh': 0.6, 'isabs': False, 'f_agg': 'var'}, {'ql': 0.4, 'qh': 0.6, 'isabs': True, 'f_agg': 'mean'}, {'ql': 0.4, 'qh': 0.6, 'isabs': True, 'f_agg': 'var'}, {'ql': 0.4, 'qh': 0.8, 'isabs': False, 'f_agg': 'mean'}, {'ql': 0.4, 'qh': 0.8, 'isabs': False, 'f_agg': 'var'}, {'ql': 0.4, 'qh': 0.8, 'isabs': True, 'f_agg': 'mean'}, {'ql': 0.4, 'qh': 0.8, 'isabs': True, 'f_agg': 'var'}, {'ql': 0.4, 'qh': 1.0, 'isabs': False, 'f_agg': 'mean'}, {'ql': 0.4, 'qh': 1.0, 'isabs': False, 'f_agg': 'var'}, {'ql': 0.4, 'qh': 1.0, 'isabs': True, 'f_agg': 'mean'}, {'ql': 0.4, 'qh': 1.0, 'isabs': True, 'f_agg': 'var'}, {'ql': 0.6, 'qh': 0.8, 'isabs': False, 'f_agg': 'mean'}, {'ql': 0.6, 'qh': 0.8, 'isabs': False, 'f_agg': 'var'}, {'ql': 0.6, 'qh': 0.8, 'isabs': True, 'f_agg': 'mean'}, {'ql': 0.6, 'qh': 0.8, 'isabs': True, 'f_agg': 'var'}, {'ql': 0.6, 'qh': 1.0, 'isabs': False, 'f_agg': 'mean'}, {'ql': 0.6, 'qh': 1.0, 'isabs': False, 'f_agg': 'var'}, {'ql': 0.6, 'qh': 1.0, 'isabs': True, 'f_agg': 'mean'}, {'ql': 0.6, 'qh': 1.0, 'isabs': True, 'f_agg': 'var'}, {'ql': 0.8, 'qh': 1.0, 'isabs': False, 'f_agg': 'mean'}, {'ql': 0.8, 'qh': 1.0, 'isabs': False, 'f_agg': 'var'}, {'ql': 0.8, 'qh': 1.0, 'isabs': True, 'f_agg': 'mean'}, {'ql': 0.8, 'qh': 1.0, 'isabs': True, 'f_agg': 'var'}], 'fft_coefficient': [{'coeff': 0, 'attr': 'real'}, {'coeff': 1, 'attr': 'real'}, {'coeff': 2, 'attr': 'real'}, {'coeff': 3, 'attr': 'real'}, {'coeff': 4, 'attr': 'real'}, {'coeff': 5, 'attr': 'real'}, {'coeff': 6, 'attr': 'real'}, {'coeff': 7, 'attr': 'real'}, {'coeff': 8, 'attr': 'real'}, {'coeff': 9, 'attr': 'real'}, {'coeff': 10, 'attr': 'real'}, {'coeff': 11, 'attr': 'real'}, {'coeff': 12, 'attr': 'real'}, {'coeff': 13, 'attr': 'real'}, {'coeff': 14, 'attr': 'real'}, {'coeff': 15, 'attr': 'real'}, {'coeff': 16, 'attr': 'real'}, {'coeff': 17, 'attr': 'real'}, {'coeff': 18, 'attr': 'real'}, {'coeff': 19, 'attr': 'real'}, {'coeff': 20, 'attr': 'real'}, {'coeff': 21, 'attr': 'real'}, {'coeff': 22, 'attr': 'real'}, {'coeff': 23, 'attr': 'real'}, {'coeff': 24, 'attr': 'real'}, {'coeff': 25, 'attr': 'real'}, {'coeff': 26, 'attr': 'real'}, {'coeff': 27, 'attr': 'real'}, {'coeff': 28, 'attr': 'real'}, {'coeff': 29, 'attr': 'real'}, {'coeff': 30, 'attr': 'real'}, {'coeff': 31, 'attr': 'real'}, {'coeff': 32, 'attr': 'real'}, {'coeff': 33, 'attr': 'real'}, {'coeff': 34, 'attr': 'real'}, {'coeff': 35, 'attr': 'real'}, {'coeff': 36, 'attr': 'real'}, {'coeff': 37, 'attr': 'real'}, {'coeff': 38, 'attr': 'real'}, {'coeff': 39, 'attr': 'real'}, {'coeff': 40, 'attr': 'real'}, {'coeff': 41, 'attr': 'real'}, {'coeff': 42, 'attr': 'real'}, {'coeff': 43, 'attr': 'real'}, {'coeff': 44, 'attr': 'real'}, {'coeff': 45, 'attr': 'real'}, {'coeff': 46, 'attr': 'real'}, {'coeff': 47, 'attr': 'real'}, {'coeff': 48, 'attr': 'real'}, {'coeff': 49, 'attr': 'real'}, {'coeff': 50, 'attr': 'real'}, {'coeff': 51, 'attr': 'real'}, {'coeff': 52, 'attr': 'real'}, {'coeff': 53, 'attr': 'real'}, {'coeff': 54, 'attr': 'real'}, {'coeff': 55, 'attr': 'real'}, {'coeff': 56, 'attr': 'real'}, {'coeff': 57, 'attr': 'real'}, {'coeff': 58, 'attr': 'real'}, {'coeff': 59, 'attr': 'real'}, {'coeff': 60, 'attr': 'real'}, {'coeff': 61, 'attr': 'real'}, {'coeff': 62, 'attr': 'real'}, {'coeff': 63, 'attr': 'real'}, {'coeff': 64, 'attr': 'real'}, {'coeff': 65, 'attr': 'real'}, {'coeff': 66, 'attr': 'real'}, {'coeff': 67, 'attr': 'real'}, {'coeff': 68, 'attr': 'real'}, {'coeff': 69, 'attr': 'real'}, {'coeff': 70, 'attr': 'real'}, {'coeff': 71, 'attr': 'real'}, {'coeff': 72, 'attr': 'real'}, {'coeff': 73, 'attr': 'real'}, {'coeff': 74, 'attr': 'real'}, {'coeff': 75, 'attr': 'real'}, {'coeff': 76, 'attr': 'real'}, {'coeff': 77, 'attr': 'real'}, {'coeff': 78, 'attr': 'real'}, {'coeff': 79, 'attr': 'real'}, {'coeff': 80, 'attr': 'real'}, {'coeff': 81, 'attr': 'real'}, {'coeff': 82, 'attr': 'real'}, {'coeff': 83, 'attr': 'real'}, {'coeff': 84, 'attr': 'real'}, {'coeff': 85, 'attr': 'real'}, {'coeff': 86, 'attr': 'real'}, {'coeff': 87, 'attr': 'real'}, {'coeff': 88, 'attr': 'real'}, {'coeff': 89, 'attr': 'real'}, {'coeff': 90, 'attr': 'real'}, {'coeff': 91, 'attr': 'real'}, {'coeff': 92, 'attr': 'real'}, {'coeff': 93, 'attr': 'real'}, {'coeff': 94, 'attr': 'real'}, {'coeff': 95, 'attr': 'real'}, {'coeff': 96, 'attr': 'real'}, {'coeff': 97, 'attr': 'real'}, {'coeff': 98, 'attr': 'real'}, {'coeff': 99, 'attr': 'real'}, {'coeff': 0, 'attr': 'imag'}, {'coeff': 1, 'attr': 'imag'}, {'coeff': 2, 'attr': 'imag'}, {'coeff': 3, 'attr': 'imag'}, {'coeff': 4, 'attr': 'imag'}, {'coeff': 5, 'attr': 'imag'}, {'coeff': 6, 'attr': 'imag'}, {'coeff': 7, 'attr': 'imag'}, {'coeff': 8, 'attr': 'imag'}, {'coeff': 9, 'attr': 'imag'}, {'coeff': 10, 'attr': 'imag'}, {'coeff': 11, 'attr': 'imag'}, {'coeff': 12, 'attr': 'imag'}, {'coeff': 13, 'attr': 'imag'}, {'coeff': 14, 'attr': 'imag'}, {'coeff': 15, 'attr': 'imag'}, {'coeff': 16, 'attr': 'imag'}, {'coeff': 17, 'attr': 'imag'}, {'coeff': 18, 'attr': 'imag'}, {'coeff': 19, 'attr': 'imag'}, {'coeff': 20, 'attr': 'imag'}, {'coeff': 21, 'attr': 'imag'}, {'coeff': 22, 'attr': 'imag'}, {'coeff': 23, 'attr': 'imag'}, {'coeff': 24, 'attr': 'imag'}, {'coeff': 25, 'attr': 'imag'}, {'coeff': 26, 'attr': 'imag'}, {'coeff': 27, 'attr': 'imag'}, {'coeff': 28, 'attr': 'imag'}, {'coeff': 29, 'attr': 'imag'}, {'coeff': 30, 'attr': 'imag'}, {'coeff': 31, 'attr': 'imag'}, {'coeff': 32, 'attr': 'imag'}, {'coeff': 33, 'attr': 'imag'}, {'coeff': 34, 'attr': 'imag'}, {'coeff': 35, 'attr': 'imag'}, {'coeff': 36, 'attr': 'imag'}, {'coeff': 37, 'attr': 'imag'}, {'coeff': 38, 'attr': 'imag'}, {'coeff': 39, 'attr': 'imag'}, {'coeff': 40, 'attr': 'imag'}, {'coeff': 41, 'attr': 'imag'}, {'coeff': 42, 'attr': 'imag'}, {'coeff': 43, 'attr': 'imag'}, {'coeff': 44, 'attr': 'imag'}, {'coeff': 45, 'attr': 'imag'}, {'coeff': 46, 'attr': 'imag'}, {'coeff': 47, 'attr': 'imag'}, {'coeff': 48, 'attr': 'imag'}, {'coeff': 49, 'attr': 'imag'}, {'coeff': 50, 'attr': 'imag'}, {'coeff': 51, 'attr': 'imag'}, {'coeff': 52, 'attr': 'imag'}, {'coeff': 53, 'attr': 'imag'}, {'coeff': 54, 'attr': 'imag'}, {'coeff': 55, 'attr': 'imag'}, {'coeff': 56, 'attr': 'imag'}, {'coeff': 57, 'attr': 'imag'}, {'coeff': 58, 'attr': 'imag'}, {'coeff': 59, 'attr': 'imag'}, {'coeff': 60, 'attr': 'imag'}, {'coeff': 61, 'attr': 'imag'}, {'coeff': 62, 'attr': 'imag'}, {'coeff': 63, 'attr': 'imag'}, {'coeff': 64, 'attr': 'imag'}, {'coeff': 65, 'attr': 'imag'}, {'coeff': 66, 'attr': 'imag'}, {'coeff': 67, 'attr': 'imag'}, {'coeff': 68, 'attr': 'imag'}, {'coeff': 69, 'attr': 'imag'}, {'coeff': 70, 'attr': 'imag'}, {'coeff': 71, 'attr': 'imag'}, {'coeff': 72, 'attr': 'imag'}, {'coeff': 73, 'attr': 'imag'}, {'coeff': 74, 'attr': 'imag'}, {'coeff': 75, 'attr': 'imag'}, {'coeff': 76, 'attr': 'imag'}, {'coeff': 77, 'attr': 'imag'}, {'coeff': 78, 'attr': 'imag'}, {'coeff': 79, 'attr': 'imag'}, {'coeff': 80, 'attr': 'imag'}, {'coeff': 81, 'attr': 'imag'}, {'coeff': 82, 'attr': 'imag'}, {'coeff': 83, 'attr': 'imag'}, {'coeff': 84, 'attr': 'imag'}, {'coeff': 85, 'attr': 'imag'}, {'coeff': 86, 'attr': 'imag'}, {'coeff': 87, 'attr': 'imag'}, {'coeff': 88, 'attr': 'imag'}, {'coeff': 89, 'attr': 'imag'}, {'coeff': 90, 'attr': 'imag'}, {'coeff': 91, 'attr': 'imag'}, {'coeff': 92, 'attr': 'imag'}, {'coeff': 93, 'attr': 'imag'}, {'coeff': 94, 'attr': 'imag'}, {'coeff': 95, 'attr': 'imag'}, {'coeff': 96, 'attr': 'imag'}, {'coeff': 97, 'attr': 'imag'}, {'coeff': 98, 'attr': 'imag'}, {'coeff': 99, 'attr': 'imag'}, {'coeff': 0, 'attr': 'abs'}, {'coeff': 1, 'attr': 'abs'}, {'coeff': 2, 'attr': 'abs'}, {'coeff': 3, 'attr': 'abs'}, {'coeff': 4, 'attr': 'abs'}, {'coeff': 5, 'attr': 'abs'}, {'coeff': 6, 'attr': 'abs'}, {'coeff': 7, 'attr': 'abs'}, {'coeff': 8, 'attr': 'abs'}, {'coeff': 9, 'attr': 'abs'}, {'coeff': 10, 'attr': 'abs'}, {'coeff': 11, 'attr': 'abs'}, {'coeff': 12, 'attr': 'abs'}, {'coeff': 13, 'attr': 'abs'}, {'coeff': 14, 'attr': 'abs'}, {'coeff': 15, 'attr': 'abs'}, {'coeff': 16, 'attr': 'abs'}, {'coeff': 17, 'attr': 'abs'}, {'coeff': 18, 'attr': 'abs'}, {'coeff': 19, 'attr': 'abs'}, {'coeff': 20, 'attr': 'abs'}, {'coeff': 21, 'attr': 'abs'}, {'coeff': 22, 'attr': 'abs'}, {'coeff': 23, 'attr': 'abs'}, {'coeff': 24, 'attr': 'abs'}, {'coeff': 25, 'attr': 'abs'}, {'coeff': 26, 'attr': 'abs'}, {'coeff': 27, 'attr': 'abs'}, {'coeff': 28, 'attr': 'abs'}, {'coeff': 29, 'attr': 'abs'}, {'coeff': 30, 'attr': 'abs'}, {'coeff': 31, 'attr': 'abs'}, {'coeff': 32, 'attr': 'abs'}, {'coeff': 33, 'attr': 'abs'}, {'coeff': 34, 'attr': 'abs'}, {'coeff': 35, 'attr': 'abs'}, {'coeff': 36, 'attr': 'abs'}, {'coeff': 37, 'attr': 'abs'}, {'coeff': 38, 'attr': 'abs'}, {'coeff': 39, 'attr': 'abs'}, {'coeff': 40, 'attr': 'abs'}, {'coeff': 41, 'attr': 'abs'}, {'coeff': 42, 'attr': 'abs'}, {'coeff': 43, 'attr': 'abs'}, {'coeff': 44, 'attr': 'abs'}, {'coeff': 45, 'attr': 'abs'}, {'coeff': 46, 'attr': 'abs'}, {'coeff': 47, 'attr': 'abs'}, {'coeff': 48, 'attr': 'abs'}, {'coeff': 49, 'attr': 'abs'}, {'coeff': 50, 'attr': 'abs'}, {'coeff': 51, 'attr': 'abs'}, {'coeff': 52, 'attr': 'abs'}, {'coeff': 53, 'attr': 'abs'}, {'coeff': 54, 'attr': 'abs'}, {'coeff': 55, 'attr': 'abs'}, {'coeff': 56, 'attr': 'abs'}, {'coeff': 57, 'attr': 'abs'}, {'coeff': 58, 'attr': 'abs'}, {'coeff': 59, 'attr': 'abs'}, {'coeff': 60, 'attr': 'abs'}, {'coeff': 61, 'attr': 'abs'}, {'coeff': 62, 'attr': 'abs'}, {'coeff': 63, 'attr': 'abs'}, {'coeff': 64, 'attr': 'abs'}, {'coeff': 65, 'attr': 'abs'}, {'coeff': 66, 'attr': 'abs'}, {'coeff': 67, 'attr': 'abs'}, {'coeff': 68, 'attr': 'abs'}, {'coeff': 69, 'attr': 'abs'}, {'coeff': 70, 'attr': 'abs'}, {'coeff': 71, 'attr': 'abs'}, {'coeff': 72, 'attr': 'abs'}, {'coeff': 73, 'attr': 'abs'}, {'coeff': 74, 'attr': 'abs'}, {'coeff': 75, 'attr': 'abs'}, {'coeff': 76, 'attr': 'abs'}, {'coeff': 77, 'attr': 'abs'}, {'coeff': 78, 'attr': 'abs'}, {'coeff': 79, 'attr': 'abs'}, {'coeff': 80, 'attr': 'abs'}, {'coeff': 81, 'attr': 'abs'}, {'coeff': 82, 'attr': 'abs'}, {'coeff': 83, 'attr': 'abs'}, {'coeff': 84, 'attr': 'abs'}, {'coeff': 85, 'attr': 'abs'}, {'coeff': 86, 'attr': 'abs'}, {'coeff': 87, 'attr': 'abs'}, {'coeff': 88, 'attr': 'abs'}, {'coeff': 89, 'attr': 'abs'}, {'coeff': 90, 'attr': 'abs'}, {'coeff': 91, 'attr': 'abs'}, {'coeff': 92, 'attr': 'abs'}, {'coeff': 93, 'attr': 'abs'}, {'coeff': 94, 'attr': 'abs'}, {'coeff': 95, 'attr': 'abs'}, {'coeff': 96, 'attr': 'abs'}, {'coeff': 97, 'attr': 'abs'}, {'coeff': 98, 'attr': 'abs'}, {'coeff': 99, 'attr': 'abs'}, {'coeff': 0, 'attr': 'angle'}, {'coeff': 1, 'attr': 'angle'}, {'coeff': 2, 'attr': 'angle'}, {'coeff': 3, 'attr': 'angle'}, {'coeff': 4, 'attr': 'angle'}, {'coeff': 5, 'attr': 'angle'}, {'coeff': 6, 'attr': 'angle'}, {'coeff': 7, 'attr': 'angle'}, {'coeff': 8, 'attr': 'angle'}, {'coeff': 9, 'attr': 'angle'}, {'coeff': 10, 'attr': 'angle'}, {'coeff': 11, 'attr': 'angle'}, {'coeff': 12, 'attr': 'angle'}, {'coeff': 13, 'attr': 'angle'}, {'coeff': 14, 'attr': 'angle'}, {'coeff': 15, 'attr': 'angle'}, {'coeff': 16, 'attr': 'angle'}, {'coeff': 17, 'attr': 'angle'}, {'coeff': 18, 'attr': 'angle'}, {'coeff': 19, 'attr': 'angle'}, {'coeff': 20, 'attr': 'angle'}, {'coeff': 21, 'attr': 'angle'}, {'coeff': 22, 'attr': 'angle'}, {'coeff': 23, 'attr': 'angle'}, {'coeff': 24, 'attr': 'angle'}, {'coeff': 25, 'attr': 'angle'}, {'coeff': 26, 'attr': 'angle'}, {'coeff': 27, 'attr': 'angle'}, {'coeff': 28, 'attr': 'angle'}, {'coeff': 29, 'attr': 'angle'}, {'coeff': 30, 'attr': 'angle'}, {'coeff': 31, 'attr': 'angle'}, {'coeff': 32, 'attr': 'angle'}, {'coeff': 33, 'attr': 'angle'}, {'coeff': 34, 'attr': 'angle'}, {'coeff': 35, 'attr': 'angle'}, {'coeff': 36, 'attr': 'angle'}, {'coeff': 37, 'attr': 'angle'}, {'coeff': 38, 'attr': 'angle'}, {'coeff': 39, 'attr': 'angle'}, {'coeff': 40, 'attr': 'angle'}, {'coeff': 41, 'attr': 'angle'}, {'coeff': 42, 'attr': 'angle'}, {'coeff': 43, 'attr': 'angle'}, {'coeff': 44, 'attr': 'angle'}, {'coeff': 45, 'attr': 'angle'}, {'coeff': 46, 'attr': 'angle'}, {'coeff': 47, 'attr': 'angle'}, {'coeff': 48, 'attr': 'angle'}, {'coeff': 49, 'attr': 'angle'}, {'coeff': 50, 'attr': 'angle'}, {'coeff': 51, 'attr': 'angle'}, {'coeff': 52, 'attr': 'angle'}, {'coeff': 53, 'attr': 'angle'}, {'coeff': 54, 'attr': 'angle'}, {'coeff': 55, 'attr': 'angle'}, {'coeff': 56, 'attr': 'angle'}, {'coeff': 57, 'attr': 'angle'}, {'coeff': 58, 'attr': 'angle'}, {'coeff': 59, 'attr': 'angle'}, {'coeff': 60, 'attr': 'angle'}, {'coeff': 61, 'attr': 'angle'}, {'coeff': 62, 'attr': 'angle'}, {'coeff': 63, 'attr': 'angle'}, {'coeff': 64, 'attr': 'angle'}, {'coeff': 65, 'attr': 'angle'}, {'coeff': 66, 'attr': 'angle'}, {'coeff': 67, 'attr': 'angle'}, {'coeff': 68, 'attr': 'angle'}, {'coeff': 69, 'attr': 'angle'}, {'coeff': 70, 'attr': 'angle'}, {'coeff': 71, 'attr': 'angle'}, {'coeff': 72, 'attr': 'angle'}, {'coeff': 73, 'attr': 'angle'}, {'coeff': 74, 'attr': 'angle'}, {'coeff': 75, 'attr': 'angle'}, {'coeff': 76, 'attr': 'angle'}, {'coeff': 77, 'attr': 'angle'}, {'coeff': 78, 'attr': 'angle'}, {'coeff': 79, 'attr': 'angle'}, {'coeff': 80, 'attr': 'angle'}, {'coeff': 81, 'attr': 'angle'}, {'coeff': 82, 'attr': 'angle'}, {'coeff': 83, 'attr': 'angle'}, {'coeff': 84, 'attr': 'angle'}, {'coeff': 85, 'attr': 'angle'}, {'coeff': 86, 'attr': 'angle'}, {'coeff': 87, 'attr': 'angle'}, {'coeff': 88, 'attr': 'angle'}, {'coeff': 89, 'attr': 'angle'}, {'coeff': 90, 'attr': 'angle'}, {'coeff': 91, 'attr': 'angle'}, {'coeff': 92, 'attr': 'angle'}, {'coeff': 93, 'attr': 'angle'}, {'coeff': 94, 'attr': 'angle'}, {'coeff': 95, 'attr': 'angle'}, {'coeff': 96, 'attr': 'angle'}, {'coeff': 97, 'attr': 'angle'}, {'coeff': 98, 'attr': 'angle'}, {'coeff': 99, 'attr': 'angle'}], 'fft_aggregated': [{'aggtype': 'centroid'}, {'aggtype': 'variance'}, {'aggtype': 'skew'}, {'aggtype': 'kurtosis'}], 'value_count': [{'value': 0}, {'value': 1}, {'value': -1}], 'range_count': [{'min': -1, 'max': 1}, {'min': -1000000000000.0, 'max': 0}, {'min': 0, 'max': 1000000000000.0}], 'approximate_entropy': [{'m': 2, 'r': 0.1}, {'m': 2, 'r': 0.3}, {'m': 2, 'r': 0.5}, {'m': 2, 'r': 0.7}, {'m': 2, 'r': 0.9}], 'friedrich_coefficients': [{'coeff': 0, 'm': 3, 'r': 30}, {'coeff': 1, 'm': 3, 'r': 30}, {'coeff': 2, 'm': 3, 'r': 30}, {'coeff': 3, 'm': 3, 'r': 30}], 'max_langevin_fixed_point': [{'m': 3, 'r': 30}], 'linear_trend': [{'attr': 'pvalue'}, {'attr': 'rvalue'}, {'attr': 'intercept'}, {'attr': 'slope'}, {'attr': 'stderr'}], 'agg_linear_trend': [{'attr': 'rvalue', 'chunk_len': 5, 'f_agg': 'max'}, {'attr': 'rvalue', 'chunk_len': 5, 'f_agg': 'min'}, {'attr': 'rvalue', 'chunk_len': 5, 'f_agg': 'mean'}, {'attr': 'rvalue', 'chunk_len': 5, 'f_agg': 'var'}, {'attr': 'rvalue', 'chunk_len': 10, 'f_agg': 'max'}, {'attr': 'rvalue', 'chunk_len': 10, 'f_agg': 'min'}, {'attr': 'rvalue', 'chunk_len': 10, 'f_agg': 'mean'}, {'attr': 'rvalue', 'chunk_len': 10, 'f_agg': 'var'}, {'attr': 'rvalue', 'chunk_len': 50, 'f_agg': 'max'}, {'attr': 'rvalue', 'chunk_len': 50, 'f_agg': 'min'}, {'attr': 'rvalue', 'chunk_len': 50, 'f_agg': 'mean'}, {'attr': 'rvalue', 'chunk_len': 50, 'f_agg': 'var'}, {'attr': 'intercept', 'chunk_len': 5, 'f_agg': 'max'}, {'attr': 'intercept', 'chunk_len': 5, 'f_agg': 'min'}, {'attr': 'intercept', 'chunk_len': 5, 'f_agg': 'mean'}, {'attr': 'intercept', 'chunk_len': 5, 'f_agg': 'var'}, {'attr': 'intercept', 'chunk_len': 10, 'f_agg': 'max'}, {'attr': 'intercept', 'chunk_len': 10, 'f_agg': 'min'}, {'attr': 'intercept', 'chunk_len': 10, 'f_agg': 'mean'}, {'attr': 'intercept', 'chunk_len': 10, 'f_agg': 'var'}, {'attr': 'intercept', 'chunk_len': 50, 'f_agg': 'max'}, {'attr': 'intercept', 'chunk_len': 50, 'f_agg': 'min'}, {'attr': 'intercept', 'chunk_len': 50, 'f_agg': 'mean'}, {'attr': 'intercept', 'chunk_len': 50, 'f_agg': 'var'}, {'attr': 'slope', 'chunk_len': 5, 'f_agg': 'max'}, {'attr': 'slope', 'chunk_len': 5, 'f_agg': 'min'}, {'attr': 'slope', 'chunk_len': 5, 'f_agg': 'mean'}, {'attr': 'slope', 'chunk_len': 5, 'f_agg': 'var'}, {'attr': 'slope', 'chunk_len': 10, 'f_agg': 'max'}, {'attr': 'slope', 'chunk_len': 10, 'f_agg': 'min'}, {'attr': 'slope', 'chunk_len': 10, 'f_agg': 'mean'}, {'attr': 'slope', 'chunk_len': 10, 'f_agg': 'var'}, {'attr': 'slope', 'chunk_len': 50, 'f_agg': 'max'}, {'attr': 'slope', 'chunk_len': 50, 'f_agg': 'min'}, {'attr': 'slope', 'chunk_len': 50, 'f_agg': 'mean'}, {'attr': 'slope', 'chunk_len': 50, 'f_agg': 'var'}, {'attr': 'stderr', 'chunk_len': 5, 'f_agg': 'max'}, {'attr': 'stderr', 'chunk_len': 5, 'f_agg': 'min'}, {'attr': 'stderr', 'chunk_len': 5, 'f_agg': 'mean'}, {'attr': 'stderr', 'chunk_len': 5, 'f_agg': 'var'}, {'attr': 'stderr', 'chunk_len': 10, 'f_agg': 'max'}, {'attr': 'stderr', 'chunk_len': 10, 'f_agg': 'min'}, {'attr': 'stderr', 'chunk_len': 10, 'f_agg': 'mean'}, {'attr': 'stderr', 'chunk_len': 10, 'f_agg': 'var'}, {'attr': 'stderr', 'chunk_len': 50, 'f_agg': 'max'}, {'attr': 'stderr', 'chunk_len': 50, 'f_agg': 'min'}, {'attr': 'stderr', 'chunk_len': 50, 'f_agg': 'mean'}, {'attr': 'stderr', 'chunk_len': 50, 'f_agg': 'var'}], 'augmented_dickey_fuller': [{'attr': 'teststat'}, {'attr': 'pvalue'}, {'attr': 'usedlag'}], 'number_crossing_m': [{'m': 0}, {'m': -1}, {'m': 1}], 'energy_ratio_by_chunks': [{'num_segments': 10, 'segment_focus': 0}, {'num_segments': 10, 'segment_focus': 1}, {'num_segments': 10, 'segment_focus': 2}, {'num_segments': 10, 'segment_focus': 3}, {'num_segments': 10, 'segment_focus': 4}, {'num_segments': 10, 'segment_focus': 5}, {'num_segments': 10, 'segment_focus': 6}, {'num_segments': 10, 'segment_focus': 7}, {'num_segments': 10, 'segment_focus': 8}, {'num_segments': 10, 'segment_focus': 9}], 'ratio_beyond_r_sigma': [{'r': 0.5}, {'r': 1}, {'r': 1.5}, {'r': 2}, {'r': 2.5}, {'r': 3}, {'r': 5}, {'r': 6}, {'r': 7}, {'r': 10}], 'linear_trend_timewise': [{'attr': 'pvalue'}, {'attr': 'rvalue'}, {'attr': 'intercept'}, {'attr': 'slope'}, {'attr': 'stderr'}], 'count_above': [{'t': 0}], 'count_below': [{'t': 0}], 'lempel_ziv_complexity': [{'bins': 2}, {'bins': 3}, {'bins': 5}, {'bins': 10}, {'bins': 100}], 'fourier_entropy': [{'bins': 2}, {'bins': 3}, {'bins': 5}, {'bins': 10}, {'bins': 100}], 'permutation_entropy': [{'tau': 1, 'dimension': 3}, {'tau': 1, 'dimension': 4}, {'tau': 1, 'dimension': 5}, {'tau': 1, 'dimension': 6}, {'tau': 1, 'dimension': 7}], 'query_similarity_count': [{'query': None, 'threshold': 0.0}], 'mean_n_absolute_max': [{'number_of_maxima': 7}]}"
     },
     "execution_count": 9,
     "metadata": {},
     "output_type": "execute_result"
    }
   ],
   "source": [
    "settings_comprehensive = settings.ComprehensiveFCParameters()\n",
    "print(f'N_features: {len(settings_comprehensive)}')\n",
    "settings_comprehensive"
   ],
   "metadata": {
    "collapsed": false,
    "ExecuteTime": {
     "end_time": "2024-04-14T14:07:41.515616Z",
     "start_time": "2024-04-14T14:07:41.512743Z"
    }
   },
   "id": "93dd0728b849ad78",
   "execution_count": 9
  },
  {
   "cell_type": "code",
   "outputs": [],
   "source": [
    "ts_settings = settings_comprehensive"
   ],
   "metadata": {
    "collapsed": true,
    "ExecuteTime": {
     "end_time": "2024-04-14T14:07:41.517297Z",
     "start_time": "2024-04-14T14:07:41.516089Z"
    }
   },
   "id": "initial_id",
   "execution_count": 10
  },
  {
   "cell_type": "markdown",
   "source": [
    "### Generate features"
   ],
   "metadata": {
    "collapsed": false
   },
   "id": "65f29e14dcf9eede"
  },
  {
   "cell_type": "code",
   "outputs": [],
   "source": [
    "data_long = pd.DataFrame(\n",
    "    {\n",
    "        \"values\": data.values.flatten(),\n",
    "        \"id\": np.arange(data.shape[0]).repeat(data.shape[1]),\n",
    "    }\n",
    ")"
   ],
   "metadata": {
    "collapsed": false,
    "ExecuteTime": {
     "end_time": "2024-04-14T14:07:41.519790Z",
     "start_time": "2024-04-14T14:07:41.517715Z"
    }
   },
   "id": "24dd0f13685fdbb0",
   "execution_count": 11
  },
  {
   "cell_type": "code",
   "outputs": [],
   "source": [
    "y.index = np.arange(data.shape[0])"
   ],
   "metadata": {
    "collapsed": false,
    "ExecuteTime": {
     "end_time": "2024-04-14T14:07:41.521871Z",
     "start_time": "2024-04-14T14:07:41.520345Z"
    }
   },
   "id": "fefa9370268493f6",
   "execution_count": 12
  },
  {
   "cell_type": "code",
   "outputs": [
    {
     "data": {
      "text/plain": "(76850, 2)"
     },
     "execution_count": 13,
     "metadata": {},
     "output_type": "execute_result"
    }
   ],
   "source": [
    "data_long.shape"
   ],
   "metadata": {
    "collapsed": false,
    "ExecuteTime": {
     "end_time": "2024-04-14T14:07:41.524120Z",
     "start_time": "2024-04-14T14:07:41.522355Z"
    }
   },
   "id": "d581bf907fd4560c",
   "execution_count": 13
  },
  {
   "cell_type": "code",
   "outputs": [
    {
     "data": {
      "text/plain": "   values  id\n0     0.0   0\n1     0.0   0\n2     0.0   0\n3     1.0   0\n4     1.0   0",
      "text/html": "<div>\n<style scoped>\n    .dataframe tbody tr th:only-of-type {\n        vertical-align: middle;\n    }\n\n    .dataframe tbody tr th {\n        vertical-align: top;\n    }\n\n    .dataframe thead th {\n        text-align: right;\n    }\n</style>\n<table border=\"1\" class=\"dataframe\">\n  <thead>\n    <tr style=\"text-align: right;\">\n      <th></th>\n      <th>values</th>\n      <th>id</th>\n    </tr>\n  </thead>\n  <tbody>\n    <tr>\n      <th>0</th>\n      <td>0.0</td>\n      <td>0</td>\n    </tr>\n    <tr>\n      <th>1</th>\n      <td>0.0</td>\n      <td>0</td>\n    </tr>\n    <tr>\n      <th>2</th>\n      <td>0.0</td>\n      <td>0</td>\n    </tr>\n    <tr>\n      <th>3</th>\n      <td>1.0</td>\n      <td>0</td>\n    </tr>\n    <tr>\n      <th>4</th>\n      <td>1.0</td>\n      <td>0</td>\n    </tr>\n  </tbody>\n</table>\n</div>"
     },
     "execution_count": 14,
     "metadata": {},
     "output_type": "execute_result"
    }
   ],
   "source": [
    "data_long.head()"
   ],
   "metadata": {
    "collapsed": false,
    "ExecuteTime": {
     "end_time": "2024-04-14T14:07:41.529008Z",
     "start_time": "2024-04-14T14:07:41.526039Z"
    }
   },
   "id": "889d464e19c6fcdb",
   "execution_count": 14
  },
  {
   "cell_type": "code",
   "outputs": [
    {
     "name": "stderr",
     "output_type": "stream",
     "text": [
      "Feature Extraction: 100%|██████████| 20/20 [00:07<00:00,  2.68it/s]\n"
     ]
    }
   ],
   "source": [
    "features_df = extract_relevant_features(\n",
    "    data_long, \n",
    "    y,\n",
    "    column_id=\"id\",\n",
    "    default_fc_parameters=ts_settings,\n",
    ")"
   ],
   "metadata": {
    "collapsed": false,
    "ExecuteTime": {
     "end_time": "2024-04-14T14:07:51.132214Z",
     "start_time": "2024-04-14T14:07:41.529441Z"
    }
   },
   "id": "2656cd3723c2ff",
   "execution_count": 15
  },
  {
   "cell_type": "code",
   "outputs": [
    {
     "data": {
      "text/plain": "(1537, 354)"
     },
     "execution_count": 16,
     "metadata": {},
     "output_type": "execute_result"
    }
   ],
   "source": [
    "features_df.shape"
   ],
   "metadata": {
    "collapsed": false,
    "ExecuteTime": {
     "end_time": "2024-04-14T14:07:51.136376Z",
     "start_time": "2024-04-14T14:07:51.133393Z"
    }
   },
   "id": "29fb0e99b591fddd",
   "execution_count": 16
  },
  {
   "cell_type": "code",
   "outputs": [
    {
     "data": {
      "text/plain": "   values__count_above__t_0  \\\n0                      1.00   \n1                      1.00   \n2                      0.98   \n3                      0.98   \n4                      0.98   \n\n   values__change_quantiles__f_agg_\"mean\"__isabs_False__qh_1.0__ql_0.2  \\\n0                                      -1.450087e-16                     \n1                                      -2.208860e-02                     \n2                                       1.174533e-02                     \n3                                       2.655347e-03                     \n4                                       1.146958e-04                     \n\n   values__change_quantiles__f_agg_\"mean\"__isabs_False__qh_1.0__ql_0.4  \\\n0                                      -1.450087e-16                     \n1                                      -2.208860e-02                     \n2                                       1.174533e-02                     \n3                                       2.655347e-03                     \n4                                       1.146958e-04                     \n\n   values__change_quantiles__f_agg_\"var\"__isabs_False__qh_0.6__ql_0.0  \\\n0                                           0.000000                    \n1                                           0.000134                    \n2                                           0.011270                    \n3                                           0.000576                    \n4                                           0.000001                    \n\n   values__change_quantiles__f_agg_\"mean\"__isabs_False__qh_0.2__ql_0.0  \\\n0                                           0.000000                     \n1                                           0.000000                     \n2                                           0.021232                     \n3                                           0.004800                     \n4                                           0.000207                     \n\n   values__change_quantiles__f_agg_\"mean\"__isabs_False__qh_0.6__ql_0.0  \\\n0                                           0.000000                     \n1                                          -0.002417                     \n2                                           0.021232                     \n3                                           0.004800                     \n4                                           0.000207                     \n\n   values__change_quantiles__f_agg_\"var\"__isabs_True__qh_0.4__ql_0.0  \\\n0                                           0.000000                   \n1                                           0.000000                   \n2                                           0.011270                   \n3                                           0.000576                   \n4                                           0.000001                   \n\n   values__change_quantiles__f_agg_\"mean\"__isabs_True__qh_0.4__ql_0.0  \\\n0                                           0.000000                    \n1                                           0.000000                    \n2                                           0.021232                    \n3                                           0.004800                    \n4                                           0.000207                    \n\n   values__change_quantiles__f_agg_\"var\"__isabs_False__qh_0.4__ql_0.0  \\\n0                                           0.000000                    \n1                                           0.000000                    \n2                                           0.011270                    \n3                                           0.000576                    \n4                                           0.000001                    \n\n   values__change_quantiles__f_agg_\"mean\"__isabs_False__qh_0.4__ql_0.0  ...  \\\n0                                           0.000000                    ...   \n1                                           0.000000                    ...   \n2                                           0.021232                    ...   \n3                                           0.004800                    ...   \n4                                           0.000207                    ...   \n\n   values__cwt_coefficients__coeff_11__w_10__widths_(2, 5, 10, 20)  \\\n0                                          62.514540                 \n1                                          62.275306                 \n2                                          62.146776                 \n3                                          62.082452                 \n4                                          61.940945                 \n\n   values__energy_ratio_by_chunks__num_segments_10__segment_focus_9  \\\n0                                                0.0                  \n1                                                0.0                  \n2                                                0.0                  \n3                                                0.0                  \n4                                                0.0                  \n\n   values__approximate_entropy__m_2__r_0.3  values__mean_change  \\\n0                                 0.236442             0.000000   \n1                                 0.236442            -0.022089   \n2                                 0.236442            -0.018293   \n3                                 0.236442            -0.015403   \n4                                 0.236442            -0.019385   \n\n   values__change_quantiles__f_agg_\"mean\"__isabs_False__qh_1.0__ql_0.0  \\\n0                                      -1.450087e-16                     \n1                                      -2.208860e-02                     \n2                                      -1.829252e-02                     \n3                                      -1.540324e-02                     \n4                                      -1.938525e-02                     \n\n   values__value_count__value_1  \\\n0                           5.0   \n1                           4.0   \n2                           3.0   \n3                           3.0   \n4                           3.0   \n\n   values__time_reversal_asymmetry_statistic__lag_2  \\\n0                                       1337.489959   \n1                                       1314.638655   \n2                                       1322.135734   \n3                                       1314.431133   \n4                                       1316.129906   \n\n   values__linear_trend__attr_\"slope\"  \\\n0                           -0.348512   \n1                           -0.350933   \n2                           -0.348216   \n3                           -0.347083   \n4                           -0.347107   \n\n   values__cwt_coefficients__coeff_4__w_20__widths_(2, 5, 10, 20)  \\\n0                                          40.816336                \n1                                          40.898842                \n2                                          40.640725                \n3                                          40.537630                \n4                                          40.511242                \n\n   values__cwt_coefficients__coeff_1__w_20__widths_(2, 5, 10, 20)  \n0                                          26.685215               \n1                                          26.808125               \n2                                          26.554636               \n3                                          26.519678               \n4                                          26.551350               \n\n[5 rows x 354 columns]",
      "text/html": "<div>\n<style scoped>\n    .dataframe tbody tr th:only-of-type {\n        vertical-align: middle;\n    }\n\n    .dataframe tbody tr th {\n        vertical-align: top;\n    }\n\n    .dataframe thead th {\n        text-align: right;\n    }\n</style>\n<table border=\"1\" class=\"dataframe\">\n  <thead>\n    <tr style=\"text-align: right;\">\n      <th></th>\n      <th>values__count_above__t_0</th>\n      <th>values__change_quantiles__f_agg_\"mean\"__isabs_False__qh_1.0__ql_0.2</th>\n      <th>values__change_quantiles__f_agg_\"mean\"__isabs_False__qh_1.0__ql_0.4</th>\n      <th>values__change_quantiles__f_agg_\"var\"__isabs_False__qh_0.6__ql_0.0</th>\n      <th>values__change_quantiles__f_agg_\"mean\"__isabs_False__qh_0.2__ql_0.0</th>\n      <th>values__change_quantiles__f_agg_\"mean\"__isabs_False__qh_0.6__ql_0.0</th>\n      <th>values__change_quantiles__f_agg_\"var\"__isabs_True__qh_0.4__ql_0.0</th>\n      <th>values__change_quantiles__f_agg_\"mean\"__isabs_True__qh_0.4__ql_0.0</th>\n      <th>values__change_quantiles__f_agg_\"var\"__isabs_False__qh_0.4__ql_0.0</th>\n      <th>values__change_quantiles__f_agg_\"mean\"__isabs_False__qh_0.4__ql_0.0</th>\n      <th>...</th>\n      <th>values__cwt_coefficients__coeff_11__w_10__widths_(2, 5, 10, 20)</th>\n      <th>values__energy_ratio_by_chunks__num_segments_10__segment_focus_9</th>\n      <th>values__approximate_entropy__m_2__r_0.3</th>\n      <th>values__mean_change</th>\n      <th>values__change_quantiles__f_agg_\"mean\"__isabs_False__qh_1.0__ql_0.0</th>\n      <th>values__value_count__value_1</th>\n      <th>values__time_reversal_asymmetry_statistic__lag_2</th>\n      <th>values__linear_trend__attr_\"slope\"</th>\n      <th>values__cwt_coefficients__coeff_4__w_20__widths_(2, 5, 10, 20)</th>\n      <th>values__cwt_coefficients__coeff_1__w_20__widths_(2, 5, 10, 20)</th>\n    </tr>\n  </thead>\n  <tbody>\n    <tr>\n      <th>0</th>\n      <td>1.00</td>\n      <td>-1.450087e-16</td>\n      <td>-1.450087e-16</td>\n      <td>0.000000</td>\n      <td>0.000000</td>\n      <td>0.000000</td>\n      <td>0.000000</td>\n      <td>0.000000</td>\n      <td>0.000000</td>\n      <td>0.000000</td>\n      <td>...</td>\n      <td>62.514540</td>\n      <td>0.0</td>\n      <td>0.236442</td>\n      <td>0.000000</td>\n      <td>-1.450087e-16</td>\n      <td>5.0</td>\n      <td>1337.489959</td>\n      <td>-0.348512</td>\n      <td>40.816336</td>\n      <td>26.685215</td>\n    </tr>\n    <tr>\n      <th>1</th>\n      <td>1.00</td>\n      <td>-2.208860e-02</td>\n      <td>-2.208860e-02</td>\n      <td>0.000134</td>\n      <td>0.000000</td>\n      <td>-0.002417</td>\n      <td>0.000000</td>\n      <td>0.000000</td>\n      <td>0.000000</td>\n      <td>0.000000</td>\n      <td>...</td>\n      <td>62.275306</td>\n      <td>0.0</td>\n      <td>0.236442</td>\n      <td>-0.022089</td>\n      <td>-2.208860e-02</td>\n      <td>4.0</td>\n      <td>1314.638655</td>\n      <td>-0.350933</td>\n      <td>40.898842</td>\n      <td>26.808125</td>\n    </tr>\n    <tr>\n      <th>2</th>\n      <td>0.98</td>\n      <td>1.174533e-02</td>\n      <td>1.174533e-02</td>\n      <td>0.011270</td>\n      <td>0.021232</td>\n      <td>0.021232</td>\n      <td>0.011270</td>\n      <td>0.021232</td>\n      <td>0.011270</td>\n      <td>0.021232</td>\n      <td>...</td>\n      <td>62.146776</td>\n      <td>0.0</td>\n      <td>0.236442</td>\n      <td>-0.018293</td>\n      <td>-1.829252e-02</td>\n      <td>3.0</td>\n      <td>1322.135734</td>\n      <td>-0.348216</td>\n      <td>40.640725</td>\n      <td>26.554636</td>\n    </tr>\n    <tr>\n      <th>3</th>\n      <td>0.98</td>\n      <td>2.655347e-03</td>\n      <td>2.655347e-03</td>\n      <td>0.000576</td>\n      <td>0.004800</td>\n      <td>0.004800</td>\n      <td>0.000576</td>\n      <td>0.004800</td>\n      <td>0.000576</td>\n      <td>0.004800</td>\n      <td>...</td>\n      <td>62.082452</td>\n      <td>0.0</td>\n      <td>0.236442</td>\n      <td>-0.015403</td>\n      <td>-1.540324e-02</td>\n      <td>3.0</td>\n      <td>1314.431133</td>\n      <td>-0.347083</td>\n      <td>40.537630</td>\n      <td>26.519678</td>\n    </tr>\n    <tr>\n      <th>4</th>\n      <td>0.98</td>\n      <td>1.146958e-04</td>\n      <td>1.146958e-04</td>\n      <td>0.000001</td>\n      <td>0.000207</td>\n      <td>0.000207</td>\n      <td>0.000001</td>\n      <td>0.000207</td>\n      <td>0.000001</td>\n      <td>0.000207</td>\n      <td>...</td>\n      <td>61.940945</td>\n      <td>0.0</td>\n      <td>0.236442</td>\n      <td>-0.019385</td>\n      <td>-1.938525e-02</td>\n      <td>3.0</td>\n      <td>1316.129906</td>\n      <td>-0.347107</td>\n      <td>40.511242</td>\n      <td>26.551350</td>\n    </tr>\n  </tbody>\n</table>\n<p>5 rows × 354 columns</p>\n</div>"
     },
     "execution_count": 17,
     "metadata": {},
     "output_type": "execute_result"
    }
   ],
   "source": [
    "features_df.head()"
   ],
   "metadata": {
    "collapsed": false,
    "ExecuteTime": {
     "end_time": "2024-04-14T14:07:51.144675Z",
     "start_time": "2024-04-14T14:07:51.136905Z"
    }
   },
   "id": "d82b6a9d2d56b2d1",
   "execution_count": 17
  },
  {
   "cell_type": "code",
   "outputs": [
    {
     "data": {
      "text/plain": "Index(['values__count_above__t_0',\n       'values__change_quantiles__f_agg_\"mean\"__isabs_False__qh_1.0__ql_0.2',\n       'values__change_quantiles__f_agg_\"mean\"__isabs_False__qh_1.0__ql_0.4',\n       'values__change_quantiles__f_agg_\"var\"__isabs_False__qh_0.6__ql_0.0',\n       'values__change_quantiles__f_agg_\"mean\"__isabs_False__qh_0.2__ql_0.0',\n       'values__change_quantiles__f_agg_\"mean\"__isabs_False__qh_0.6__ql_0.0',\n       'values__change_quantiles__f_agg_\"var\"__isabs_True__qh_0.4__ql_0.0',\n       'values__change_quantiles__f_agg_\"mean\"__isabs_True__qh_0.4__ql_0.0',\n       'values__change_quantiles__f_agg_\"var\"__isabs_False__qh_0.4__ql_0.0',\n       'values__change_quantiles__f_agg_\"mean\"__isabs_False__qh_0.4__ql_0.0',\n       ...\n       'values__cwt_coefficients__coeff_11__w_10__widths_(2, 5, 10, 20)',\n       'values__energy_ratio_by_chunks__num_segments_10__segment_focus_9',\n       'values__approximate_entropy__m_2__r_0.3', 'values__mean_change',\n       'values__change_quantiles__f_agg_\"mean\"__isabs_False__qh_1.0__ql_0.0',\n       'values__value_count__value_1',\n       'values__time_reversal_asymmetry_statistic__lag_2',\n       'values__linear_trend__attr_\"slope\"',\n       'values__cwt_coefficients__coeff_4__w_20__widths_(2, 5, 10, 20)',\n       'values__cwt_coefficients__coeff_1__w_20__widths_(2, 5, 10, 20)'],\n      dtype='object', length=354)"
     },
     "execution_count": 18,
     "metadata": {},
     "output_type": "execute_result"
    }
   ],
   "source": [
    "features_df.columns"
   ],
   "metadata": {
    "collapsed": false,
    "ExecuteTime": {
     "end_time": "2024-04-14T14:07:51.148274Z",
     "start_time": "2024-04-14T14:07:51.145368Z"
    }
   },
   "id": "bfcf6badf2c0e5be",
   "execution_count": 18
  },
  {
   "cell_type": "markdown",
   "source": [
    "Получили 354 значимых признаков вместо 51 изначальных"
   ],
   "metadata": {
    "collapsed": false
   },
   "id": "af03fe421e0bbfdf"
  },
  {
   "cell_type": "code",
   "outputs": [],
   "source": [],
   "metadata": {
    "collapsed": false,
    "ExecuteTime": {
     "end_time": "2024-04-14T14:07:51.149948Z",
     "start_time": "2024-04-14T14:07:51.148761Z"
    }
   },
   "id": "e8190e81df55227e",
   "execution_count": 18
  }
 ],
 "metadata": {
  "kernelspec": {
   "display_name": "Python 3",
   "language": "python",
   "name": "python3"
  },
  "language_info": {
   "codemirror_mode": {
    "name": "ipython",
    "version": 2
   },
   "file_extension": ".py",
   "mimetype": "text/x-python",
   "name": "python",
   "nbconvert_exporter": "python",
   "pygments_lexer": "ipython2",
   "version": "2.7.6"
  }
 },
 "nbformat": 4,
 "nbformat_minor": 5
}
